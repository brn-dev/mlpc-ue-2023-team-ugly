{
 "cells": [
  {
   "cell_type": "code",
   "execution_count": 22,
   "metadata": {
    "tags": []
   },
   "outputs": [
    {
     "name": "stdout",
     "output_type": "stream",
     "text": [
      "The autoreload extension is already loaded. To reload it, use:\n",
      "  %reload_ext autoreload\n"
     ]
    }
   ],
   "source": [
    "from typing import Union, Callable\n",
    "\n",
    "import numpy as np\n",
    "import pandas as pd\n",
    "import torch\n",
    "from torch import nn\n",
    "from torch import optim\n",
    "import torch.optim.lr_scheduler as lr_scheduler\n",
    "import matplotlib.pyplot as plt\n",
    "import seaborn as sns\n",
    "import sklearn.decomposition\n",
    "from tqdm import tqdm\n",
    "\n",
    "from lib.data_preprocessing import remove_correlated_columns, normalize_data\n",
    "from lib.ds.bird_classes import NUM_CLASSES\n",
    "from lib.ds.dataset_loading import load_all_data, flatten\n",
    "from lib.ds.dataset_splitting import split\n",
    "from lib.ds.torch_dataset import create_data_loader\n",
    "from lib.ds.challenge_dataset import load_challenge_data\n",
    "from lib.model.attention_classifier import AttentionClassifier, AttentionClassifierHyperParameters\n",
    "from lib.attention_classifier_training import train_attention_classifier_with_cv, train_attention_classifier, evaluate_attention_classifier\n",
    "from lib.training_hyper_parameters import TrainingHyperParameters\n",
    "from lib.ds.numpy_dataset import NumpyDataset\n",
    "from lib.model.model_persistence import save_model, load_model, load_models_with_scalers_with_prefix\n",
    "from lib.random import set_random_seed\n",
    "from lib.metrics import calculate_average_metrics_for_final_epoch_of_folds, calculate_average_metrics_per_epoch\n",
    "from lib.ds.bird_combiner import combine_birds\n",
    "from lib.challenge import predict_for_challenge, save_results_to_csv, load_results_from_csv\n",
    "from lib.label_fixing import fix_labels_information_gain\n",
    "import lib.torch_device as tdev\n",
    "\n",
    "%load_ext autoreload\n",
    "%autoreload 2"
   ]
  },
  {
   "cell_type": "code",
   "execution_count": 2,
   "metadata": {},
   "outputs": [
    {
     "data": {
      "text/plain": [
       "device(type='cuda', index=0)"
      ]
     },
     "execution_count": 2,
     "metadata": {},
     "output_type": "execute_result"
    }
   ],
   "source": [
    "# tdev.PREFERRED = 'cpu'\n",
    "device = tdev.get_torch_device()\n",
    "device"
   ]
  },
  {
   "cell_type": "markdown",
   "metadata": {},
   "source": [
    "# Challenge"
   ]
  },
  {
   "cell_type": "code",
   "execution_count": 7,
   "metadata": {},
   "outputs": [
    {
     "data": {
      "text/plain": [
       "(16, 3000, 548)"
      ]
     },
     "execution_count": 7,
     "metadata": {},
     "output_type": "execute_result"
    }
   ],
   "source": [
    "challenge_data = load_challenge_data()\n",
    "challenge_data.shape"
   ]
  },
  {
   "cell_type": "code",
   "execution_count": 18,
   "metadata": {},
   "outputs": [],
   "source": [
    "species_models_with_scalers_and_scores = load_models_with_scalers_with_prefix('saved_models', 'species_classifier cv2023-06-05_18.56')       "
   ]
  },
  {
   "cell_type": "code",
   "execution_count": 23,
   "metadata": {},
   "outputs": [
    {
     "name": "stderr",
     "output_type": "stream",
     "text": [
      "100%|████████████████████████████████████████████████████████████████████████████████████████████████████████████████████████████████████████████████████████████████████████████████████████████████████████████████████| 8/8 [00:01<00:00,  4.14it/s]\n"
     ]
    },
    {
     "data": {
      "text/plain": [
       "(16, 3000, 8)"
      ]
     },
     "execution_count": 23,
     "metadata": {},
     "output_type": "execute_result"
    }
   ],
   "source": [
    "def predict_species():\n",
    "    predictions_list: list[np.ndarray] = []\n",
    "    for model, normalization_scaler, score in tqdm(species_models_with_scalers_and_scores):\n",
    "        predictions_list.append(\n",
    "            predict_for_challenge(challenge_data, model, normalization_scaler, device)\n",
    "        )\n",
    "    return np.moveaxis(np.array(predictions_list), 0, -1)\n",
    "\n",
    "species_predictions = predict_species()\n",
    "species_predictions.shape"
   ]
  },
  {
   "cell_type": "code",
   "execution_count": 26,
   "metadata": {},
   "outputs": [
    {
     "name": "stdout",
     "output_type": "stream",
     "text": [
      "voting_weights = [0.83, 0.4, 0.79, 0.25, 1.0, 0.06, 0.39, 0.61]\n"
     ]
    },
    {
     "data": {
      "text/plain": [
       "array([[5, 0, 0, ..., 0, 0, 0],\n",
       "       [0, 0, 0, ..., 0, 0, 0],\n",
       "       [0, 0, 0, ..., 3, 3, 3],\n",
       "       ...,\n",
       "       [0, 0, 0, ..., 5, 0, 0],\n",
       "       [0, 0, 0, ..., 6, 6, 6],\n",
       "       [0, 0, 0, ..., 0, 0, 0]])"
      ]
     },
     "execution_count": 26,
     "metadata": {},
     "output_type": "execute_result"
    }
   ],
   "source": [
    "def vote():\n",
    "    n_sequences, sequence_length, n_models = species_predictions.shape\n",
    "    \n",
    "    voting_results = np.zeros((n_sequences, sequence_length)).astype(int)\n",
    "    \n",
    "    voting_weights = np.array([score for _, _, score in species_models_with_scalers_and_scores])\n",
    "    voting_weights -= 0.87\n",
    "    voting_weights = voting_weights ** 1.1\n",
    "    voting_weights /= voting_weights.max()\n",
    "    \n",
    "    print(f'voting_weights = {str([round(w, 2) for w in voting_weights])}')\n",
    "\n",
    "    for sequence_nr in range(n_sequences):\n",
    "        for fragment_nr in range(sequence_length):\n",
    "            \n",
    "            votes = [0.0] * n_models\n",
    "            \n",
    "            for model_nr in range(n_models):\n",
    "                votes[species_predictions[sequence_nr, fragment_nr, model_nr]] += voting_weights[model_nr]\n",
    "            \n",
    "            voting_results[sequence_nr, fragment_nr] = np.argmax(votes)\n",
    "    \n",
    "    return voting_results\n",
    "\n",
    "voting_results = vote()\n",
    "voting_results"
   ]
  },
  {
   "cell_type": "code",
   "execution_count": 11,
   "metadata": {
    "collapsed": true,
    "jupyter": {
     "outputs_hidden": true
    },
    "tags": []
   },
   "outputs": [
    {
     "ename": "NameError",
     "evalue": "name 'voting_results' is not defined",
     "output_type": "error",
     "traceback": [
      "\u001b[1;31m---------------------------------------------------------------------------\u001b[0m",
      "\u001b[1;31mNameError\u001b[0m                                 Traceback (most recent call last)",
      "Input \u001b[1;32mIn [11]\u001b[0m, in \u001b[0;36m<cell line: 1>\u001b[1;34m()\u001b[0m\n\u001b[1;32m----> 1\u001b[0m save_results_to_csv(\u001b[43mvoting_results\u001b[49m, \u001b[38;5;124m'\u001b[39m\u001b[38;5;124m.csv\u001b[39m\u001b[38;5;124m'\u001b[39m)\n",
      "\u001b[1;31mNameError\u001b[0m: name 'voting_results' is not defined"
     ]
    }
   ],
   "source": [
    "save_results_to_csv(voting_results, 'submissions/challenge_submission_TODO.csv')"
   ]
  },
  {
   "cell_type": "code",
   "execution_count": 14,
   "metadata": {},
   "outputs": [
    {
     "name": "stderr",
     "output_type": "stream",
     "text": [
      "Fixing label sequences: 100%|███████████████████████████████████████████████████████████████████████████████████████████████████████████████████████████████████████████████████████████████████████████████████████████████████████████████| 16/16 [00:02<00:00,  5.67it/s]\n"
     ]
    }
   ],
   "source": [
    "saved_predictions = load_results_from_csv('submissions/challenge_submission_original_ac score=10861.csv')\n",
    "\n",
    "fixed_labels = fix_labels_information_gain(\n",
    "    labels=saved_predictions, \n",
    "    window_size=32, \n",
    "    window_overlap=9, \n",
    "    splitting_point_window_shrink=5,\n",
    "    split_at_0_only=True,\n",
    "    information_gain_threshold=0.1,\n",
    ")\n",
    "save_results_to_csv(fixed_labels, 'submissions/challenge_submission_original_ac_fixed score=TBD.csv')"
   ]
  },
  {
   "cell_type": "code",
   "execution_count": null,
   "metadata": {},
   "outputs": [],
   "source": []
  }
 ],
 "metadata": {
  "kernelspec": {
   "display_name": "Python 3 (ipykernel)",
   "language": "python",
   "name": "python3"
  },
  "language_info": {
   "codemirror_mode": {
    "name": "ipython",
    "version": 3
   },
   "file_extension": ".py",
   "mimetype": "text/x-python",
   "name": "python",
   "nbconvert_exporter": "python",
   "pygments_lexer": "ipython3",
   "version": "3.9.5"
  }
 },
 "nbformat": 4,
 "nbformat_minor": 4
}
