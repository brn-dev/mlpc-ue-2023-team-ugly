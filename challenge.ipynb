{
 "cells": [
  {
   "cell_type": "code",
   "execution_count": 1,
   "metadata": {
    "tags": []
   },
   "outputs": [],
   "source": [
    "from typing import Union, Callable\n",
    "\n",
    "import numpy as np\n",
    "import pandas as pd\n",
    "import torch\n",
    "from torch import nn\n",
    "from torch import optim\n",
    "import torch.optim.lr_scheduler as lr_scheduler\n",
    "import matplotlib.pyplot as plt\n",
    "import seaborn as sns\n",
    "import sklearn.decomposition\n",
    "from tqdm import tqdm\n",
    "\n",
    "from lib.data_preprocessing import remove_correlated_columns, normalize_data\n",
    "from lib.ds.bird_classes import NUM_CLASSES\n",
    "from lib.ds.dataset_loading import load_all_data, flatten\n",
    "from lib.ds.dataset_splitting import split\n",
    "from lib.ds.torch_dataset import create_data_loader\n",
    "from lib.ds.challenge_dataset import load_challenge_data\n",
    "from lib.model.attention_classifier import AttentionClassifier, AttentionClassifierHyperParameters\n",
    "from lib.training_hyper_parameters import TrainingHyperParameters\n",
    "from lib.ds.numpy_dataset import NumpyDataset\n",
    "from lib.model.model_persistence import save_model, load_model, load_models_with_scalers_with_prefix\n",
    "from lib.random import set_random_seed\n",
    "from lib.metrics import calculate_average_metrics_for_final_epoch_of_folds, calculate_average_metrics_per_epoch\n",
    "from lib.ds.bird_combiner import combine_birds\n",
    "from lib.challenge import predict_for_challenge, save_results_to_csv, load_results_from_csv\n",
    "from lib.label_fixing import fix_labels_information_gain\n",
    "from lib.voting import perform_weighted_voting\n",
    "import lib.torch_device as tdev\n",
    "\n",
    "%load_ext autoreload\n",
    "%autoreload 2"
   ]
  },
  {
   "cell_type": "code",
   "execution_count": 2,
   "metadata": {},
   "outputs": [
    {
     "data": {
      "text/plain": [
       "device(type='cpu')"
      ]
     },
     "execution_count": 2,
     "metadata": {},
     "output_type": "execute_result"
    }
   ],
   "source": [
    "tdev.PREFERRED = 'cpu'\n",
    "device = tdev.get_torch_device()\n",
    "device"
   ]
  },
  {
   "cell_type": "markdown",
   "metadata": {},
   "source": [
    "# Challenge"
   ]
  },
  {
   "cell_type": "code",
   "execution_count": 3,
   "metadata": {},
   "outputs": [
    {
     "data": {
      "text/plain": [
       "(16, 3000, 548)"
      ]
     },
     "execution_count": 3,
     "metadata": {},
     "output_type": "execute_result"
    }
   ],
   "source": [
    "challenge_data = load_challenge_data()\n",
    "challenge_data.shape"
   ]
  },
  {
   "cell_type": "code",
   "execution_count": 7,
   "metadata": {},
   "outputs": [],
   "source": [
    "species_models_with_scalers_and_scores = load_models_with_scalers_with_prefix('saved_models', 'species_classifier')       "
   ]
  },
  {
   "cell_type": "code",
   "execution_count": 8,
   "metadata": {},
   "outputs": [
    {
     "name": "stderr",
     "output_type": "stream",
     "text": [
      "100%|██████████████████████████████████████████████████████████████████████████████████████████████████████████████████████████████████████████████████████████████████████████████████| 7/7 [00:43<00:00,  6.20s/it]\n"
     ]
    },
    {
     "data": {
      "text/plain": [
       "(16, 3000, 7)"
      ]
     },
     "execution_count": 8,
     "metadata": {},
     "output_type": "execute_result"
    }
   ],
   "source": [
    "def predict_species():\n",
    "    predictions_list: list[np.ndarray] = []\n",
    "    for model, normalization_scaler, score in tqdm(species_models_with_scalers_and_scores):\n",
    "        predictions_list.append(\n",
    "            predict_for_challenge(challenge_data, model, normalization_scaler, device)\n",
    "        )\n",
    "    return np.moveaxis(np.array(predictions_list), 0, -1)\n",
    "\n",
    "species_predictions = predict_species()\n",
    "species_predictions.shape"
   ]
  },
  {
   "cell_type": "code",
   "execution_count": 9,
   "metadata": {},
   "outputs": [],
   "source": [
    "bird_no_bird_models_with_scalers_and_scores = load_models_with_scalers_with_prefix('saved_models', 'bird_no_bird_classifier')       "
   ]
  },
  {
   "cell_type": "code",
   "execution_count": 10,
   "metadata": {},
   "outputs": [
    {
     "name": "stderr",
     "output_type": "stream",
     "text": [
      "100%|██████████████████████████████████████████████████████████████████████████████████████████████████████████████████████████████████████████████████████████████████████████████████| 8/8 [00:47<00:00,  5.92s/it]\n"
     ]
    },
    {
     "data": {
      "text/plain": [
       "(16, 3000, 8)"
      ]
     },
     "execution_count": 10,
     "metadata": {},
     "output_type": "execute_result"
    }
   ],
   "source": [
    "def predict_bird_no_bird():\n",
    "    predictions_list: list[np.ndarray] = []\n",
    "    for model, normalization_scaler, score in tqdm(bird_no_bird_models_with_scalers_and_scores):\n",
    "        predictions_list.append(\n",
    "            predict_for_challenge(challenge_data, model, normalization_scaler, device)\n",
    "        )\n",
    "    return np.moveaxis(np.array(predictions_list), 0, -1)\n",
    "\n",
    "bird_no_bird_predictions = predict_bird_no_bird()\n",
    "bird_no_bird_predictions.shape"
   ]
  },
  {
   "cell_type": "code",
   "execution_count": 15,
   "metadata": {},
   "outputs": [],
   "source": [
    "def get_weights(models_with_scalers_and_scores, non_linearity_exponent):\n",
    "    weights = np.array([score for _, _, score in models_with_scalers_and_scores])\n",
    "    if len(weights) <= 1:\n",
    "        raise ValueError('nono')\n",
    "    if len(weights) > 1:\n",
    "        weights -= np.min(weights)\n",
    "        weights /= np.max(weights)\n",
    "        weights **= non_linearity_exponent\n",
    "        weights /= weights.sum()\n",
    "    return weights\n",
    "    "
   ]
  },
  {
   "cell_type": "code",
   "execution_count": 57,
   "metadata": {},
   "outputs": [
    {
     "name": "stdout",
     "output_type": "stream",
     "text": [
      "species_weights      = 0.1385, 0.1751, 0.0000, 0.2802, 0.1682, 0.2332, 0.0049\n",
      "bird_no_bird_weights = 0.1297, 0.0204, 0.1232, 0.2895, 0.2167, 0.0957, 0.1248, 0.0000\n",
      "\n",
      "species_weights (modified)      = 0.1385, 0.1751, 0.0000, 0.2802, 0.1682, 0.2332, 0.0049\n",
      "bird_no_bird_weights (modified) = 0.1297, 0.0204, 0.1232, 0.2895, 0.2167, 0.0957, 0.1248, 0.0000\n",
      "\n"
     ]
    },
    {
     "data": {
      "text/plain": [
       "array([[0, 0, 0, ..., 0, 0, 0],\n",
       "       [0, 0, 0, ..., 0, 0, 0],\n",
       "       [0, 0, 0, ..., 3, 3, 3],\n",
       "       ...,\n",
       "       [0, 0, 0, ..., 0, 0, 0],\n",
       "       [0, 0, 0, ..., 6, 6, 6],\n",
       "       [0, 0, 0, ..., 0, 0, 0]])"
      ]
     },
     "execution_count": 57,
     "metadata": {},
     "output_type": "execute_result"
    }
   ],
   "source": [
    "species_weights = get_weights(species_models_with_scalers_and_scores, 1.5)\n",
    "bird_no_bird_weights = get_weights(bird_no_bird_models_with_scalers_and_scores, 1.5)\n",
    "\n",
    "print(f'species_weights      = {\", \".join([f\"{w:.4f}\" for w in species_weights])}')\n",
    "print(f'bird_no_bird_weights = {\", \".join([f\"{w:.4f}\" for w in bird_no_bird_weights])}\\n')\n",
    "\n",
    "species_weights_modifier = 1.0\n",
    "bird_no_bird_weights_modifier = 1.0\n",
    "\n",
    "print(f'species_weights (modified)      = {\", \".join([f\"{w:.4f}\" for w in (species_weights * species_weights_modifier)])}')\n",
    "print(f'bird_no_bird_weights (modified) = {\", \".join([f\"{w:.4f}\" for w in (bird_no_bird_weights * bird_no_bird_weights_modifier)])}\\n')\n",
    "\n",
    "voting_results = perform_weighted_voting(\n",
    "    species_predictions=species_predictions,\n",
    "    species_classifier_voting_weights=species_weights * species_weights_modifier,\n",
    "    bird_no_bird_predictions=bird_no_bird_predictions,\n",
    "    bird_no_bird_classifier_voting_weights=bird_no_bird_weights * bird_no_bird_weights_modifier,\n",
    ")\n",
    "voting_results"
   ]
  },
  {
   "cell_type": "code",
   "execution_count": 44,
   "metadata": {
    "collapsed": true,
    "jupyter": {
     "outputs_hidden": true,
     "source_hidden": true
    },
    "tags": []
   },
   "outputs": [
    {
     "ename": "OSError",
     "evalue": "[Errno 22] Invalid argument: 'submissions/challenge_submission score=?.csv'",
     "output_type": "error",
     "traceback": [
      "\u001b[1;31m---------------------------------------------------------------------------\u001b[0m",
      "\u001b[1;31mOSError\u001b[0m                                   Traceback (most recent call last)",
      "Input \u001b[1;32mIn [44]\u001b[0m, in \u001b[0;36m<cell line: 1>\u001b[1;34m()\u001b[0m\n\u001b[1;32m----> 1\u001b[0m \u001b[43msave_results_to_csv\u001b[49m\u001b[43m(\u001b[49m\u001b[43mvoting_results\u001b[49m\u001b[43m,\u001b[49m\u001b[43m \u001b[49m\u001b[38;5;124;43m'\u001b[39;49m\u001b[38;5;124;43msubmissions/challenge_submission score=?.csv\u001b[39;49m\u001b[38;5;124;43m'\u001b[39;49m\u001b[43m)\u001b[49m\n",
      "File \u001b[1;32m~\\Dropbox\\jku\\2023SS\\344.091 - Machine Learning and Pattern Classification\\lib\\challenge.py:39\u001b[0m, in \u001b[0;36msave_results_to_csv\u001b[1;34m(results, path)\u001b[0m\n\u001b[0;32m     38\u001b[0m \u001b[38;5;28;01mdef\u001b[39;00m \u001b[38;5;21msave_results_to_csv\u001b[39m(results: np\u001b[38;5;241m.\u001b[39mndarray, path: \u001b[38;5;28mstr\u001b[39m):\n\u001b[1;32m---> 39\u001b[0m     \u001b[38;5;28;01mwith\u001b[39;00m \u001b[38;5;28;43mopen\u001b[39;49m\u001b[43m(\u001b[49m\u001b[43mpath\u001b[49m\u001b[43m,\u001b[49m\u001b[43m \u001b[49m\u001b[43mmode\u001b[49m\u001b[38;5;241;43m=\u001b[39;49m\u001b[38;5;124;43m'\u001b[39;49m\u001b[38;5;124;43mw\u001b[39;49m\u001b[38;5;124;43m'\u001b[39;49m\u001b[43m)\u001b[49m \u001b[38;5;28;01mas\u001b[39;00m f:\n\u001b[0;32m     40\u001b[0m         \u001b[38;5;28;01mfor\u001b[39;00m i \u001b[38;5;129;01min\u001b[39;00m \u001b[38;5;28mrange\u001b[39m(results\u001b[38;5;241m.\u001b[39mshape[\u001b[38;5;241m0\u001b[39m]):\n\u001b[0;32m     41\u001b[0m             f\u001b[38;5;241m.\u001b[39mwrite(\u001b[38;5;124mf\u001b[39m\u001b[38;5;124m'\u001b[39m\u001b[38;5;124mtest\u001b[39m\u001b[38;5;132;01m{\u001b[39;00mi\u001b[38;5;132;01m:\u001b[39;00m\u001b[38;5;124m02d\u001b[39m\u001b[38;5;132;01m}\u001b[39;00m\u001b[38;5;124m,\u001b[39m\u001b[38;5;132;01m{\u001b[39;00m\u001b[38;5;124m\"\u001b[39m\u001b[38;5;124m,\u001b[39m\u001b[38;5;124m\"\u001b[39m\u001b[38;5;241m.\u001b[39mjoin([\u001b[38;5;28mstr\u001b[39m(x) \u001b[38;5;28;01mfor\u001b[39;00m x \u001b[38;5;129;01min\u001b[39;00m results[i]])\u001b[38;5;132;01m}\u001b[39;00m\u001b[38;5;130;01m\\n\u001b[39;00m\u001b[38;5;124m'\u001b[39m)\n",
      "\u001b[1;31mOSError\u001b[0m: [Errno 22] Invalid argument: 'submissions/challenge_submission score=?.csv'"
     ]
    }
   ],
   "source": [
    "save_results_to_csv(voting_results, 'submissions/challenge_submission score=?.csv')"
   ]
  },
  {
   "cell_type": "code",
   "execution_count": 58,
   "metadata": {},
   "outputs": [
    {
     "name": "stderr",
     "output_type": "stream",
     "text": [
      "Fixing label sequences: 100%|████████████████████████████████████████████████████████████████████████████████████████████████████████████████████████████████████████████████████████| 16/16 [00:02<00:00,  5.77it/s]"
     ]
    },
    {
     "name": "stdout",
     "output_type": "stream",
     "text": [
      "Skipped 1002 out of 2064 windows\n"
     ]
    },
    {
     "name": "stderr",
     "output_type": "stream",
     "text": [
      "\n"
     ]
    }
   ],
   "source": [
    "# saved_predictions = load_results_from_csv('submissions/challenge_submission.csv')\n",
    "\n",
    "fixed_labels = fix_labels_information_gain(\n",
    "    labels=voting_results, \n",
    "    window_size=32, \n",
    "    window_overlap=9, \n",
    "    splitting_point_window_shrink=5,\n",
    "    split_at_0_only=True,\n",
    "    information_gain_threshold=0.1,\n",
    ")"
   ]
  },
  {
   "cell_type": "code",
   "execution_count": null,
   "metadata": {},
   "outputs": [],
   "source": [
    "save_results_to_csv(fixed_labels, 'submissions/challenge_submission_2023-06-10_17.40 score=TBD.csv')"
   ]
  },
  {
   "cell_type": "code",
   "execution_count": 34,
   "metadata": {},
   "outputs": [],
   "source": [
    "from collections import Counter\n",
    "\n",
    "def print_label_count(labels: np.ndarray):\n",
    "    counter = Counter(labels.reshape((-1)).tolist())\n",
    "    \n",
    "    total = sum(counter.values())\n",
    "    \n",
    "    for key in counter.keys():\n",
    "        counter[key] /= total\n",
    "    \n",
    "    items = sorted(counter.items(), key=lambda item: item[0])\n",
    "    \n",
    "    print([f'{int(item[0])}: {item[1]:.4f}' for item in items])"
   ]
  },
  {
   "cell_type": "code",
   "execution_count": 59,
   "metadata": {},
   "outputs": [
    {
     "name": "stdout",
     "output_type": "stream",
     "text": [
      "['0: 0.6761', '1: 0.0575', '2: 0.0693', '3: 0.0568', '4: 0.0229', '5: 0.0603', '6: 0.0570']\n"
     ]
    }
   ],
   "source": [
    "print_label_count(fixed_labels)"
   ]
  },
  {
   "cell_type": "code",
   "execution_count": 42,
   "metadata": {},
   "outputs": [
    {
     "name": "stdout",
     "output_type": "stream",
     "text": [
      "['0: 0.6216', '1: 0.0763', '2: 0.0789', '3: 0.0522', '4: 0.0285', '5: 0.0729', '6: 0.0696']\n"
     ]
    }
   ],
   "source": [
    "print_label_count(load_results_from_csv('submissions/challenge_submission_original_ac_fixed score=11124.csv'))"
   ]
  },
  {
   "cell_type": "code",
   "execution_count": 56,
   "metadata": {},
   "outputs": [
    {
     "name": "stdout",
     "output_type": "stream",
     "text": [
      "['0: 0.6780', '1: 0.0558', '2: 0.0681', '3: 0.0552', '4: 0.0223', '5: 0.0620', '6: 0.0586']\n"
     ]
    }
   ],
   "source": [
    "print_label_count(load_results_from_csv('submissions/challenge_submission_2023-06-10_17.00 score=10460.csv'))"
   ]
  },
  {
   "cell_type": "code",
   "execution_count": null,
   "metadata": {},
   "outputs": [],
   "source": []
  }
 ],
 "metadata": {
  "kernelspec": {
   "display_name": "Python 3 (ipykernel)",
   "language": "python",
   "name": "python3"
  },
  "language_info": {
   "codemirror_mode": {
    "name": "ipython",
    "version": 3
   },
   "file_extension": ".py",
   "mimetype": "text/x-python",
   "name": "python",
   "nbconvert_exporter": "python",
   "pygments_lexer": "ipython3",
   "version": "3.9.5"
  }
 },
 "nbformat": 4,
 "nbformat_minor": 4
}
