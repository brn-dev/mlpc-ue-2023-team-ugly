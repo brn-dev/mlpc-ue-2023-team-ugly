{
 "cells": [
  {
   "cell_type": "code",
   "execution_count": 6,
   "id": "f3753e86-29c1-4259-b277-1f86585d8d42",
   "metadata": {},
   "outputs": [
    {
     "name": "stdout",
     "output_type": "stream",
     "text": [
      "The autoreload extension is already loaded. To reload it, use:\n",
      "  %reload_ext autoreload\n"
     ]
    }
   ],
   "source": [
    "from typing import Union\n",
    "\n",
    "import numpy as np\n",
    "import pandas as pd\n",
    "import torch\n",
    "from torch import nn\n",
    "from torch import optim\n",
    "import torch.optim.lr_scheduler as lr_scheduler\n",
    "import matplotlib.pyplot as plt\n",
    "import seaborn as sns\n",
    "import sklearn.decomposition\n",
    "\n",
    "from lib.data_preprocessing import remove_correlated_columns, normalize_data\n",
    "from lib.ds.bird_classes import NUM_CLASSES\n",
    "from lib.ds.dataset_loading import load_all_data, flatten\n",
    "from lib.ds.dataset_splitting import split\n",
    "from lib.ds.torch_dataset import create_data_loader\n",
    "from lib.ds.challenge_dataset import load_challenge_data\n",
    "from lib.model.attention_classifier import AttentionClassifier, AttentionClassifierHyperParameters\n",
    "from lib.attention_classifier_training import train_attention_classifier_with_cv, train_attention_classifier, evaluate_attention_classifier\n",
    "from lib.training_hyper_parameters import TrainingHyperParameters\n",
    "from lib.ds.numpy_dataset import NumpyDataset\n",
    "from lib.model.model_persistence import save_model, load_model\n",
    "from lib.random import set_random_seed\n",
    "from lib.metrics import calculate_average_metrics_for_final_epoch_of_folds, calculate_average_metrics_per_epoch\n",
    "from lib.ds.bird_combiner import combine_birds, combine_birds_labels_only\n",
    "from lib.challenge import predict_for_challenge, save_results_to_csv, load_results_from_csv\n",
    "from lib.label_fixing import fix_labels_information_gain\n",
    "import lib.torch_device as tdev\n",
    "\n",
    "%load_ext autoreload\n",
    "%autoreload 2"
   ]
  },
  {
   "cell_type": "code",
   "execution_count": 5,
   "id": "77d09be9-c153-41f1-b102-a67cc72de264",
   "metadata": {},
   "outputs": [
    {
     "name": "stdout",
     "output_type": "stream",
     "text": [
      "data_raw.shape = (1200, 100, 548)\n",
      "labels.shape   = (1200, 100)\n"
     ]
    }
   ],
   "source": [
    "data_raw, labels = load_all_data('dataset')\n",
    "print(f'{data_raw.shape = }')\n",
    "print(f'{labels.shape   = }')"
   ]
  },
  {
   "cell_type": "code",
   "execution_count": 40,
   "id": "a214f9f2-d422-4cc7-8274-03b3fc9e5402",
   "metadata": {},
   "outputs": [
    {
     "name": "stderr",
     "output_type": "stream",
     "text": [
      "Creating random label sequence from 2 duplicates: 100%|█████████████████████████████████████████████████████████████████████████████████████████████████████████████████████████████████████████████████████████████████████████| 240000/240000 [00:01<00:00, 234884.93it/s]\n"
     ]
    }
   ],
   "source": [
    "labels_combined = combine_birds_labels_only(\n",
    "    labels, \n",
    "    sequence_length=3000,\n",
    "    num_duplicates=2,\n",
    "    random_seed=42\n",
    ")"
   ]
  },
  {
   "cell_type": "code",
   "execution_count": 41,
   "id": "ae705628-81ea-4885-9e10-eb74a9d96840",
   "metadata": {},
   "outputs": [
    {
     "name": "stdout",
     "output_type": "stream",
     "text": [
      "n_sequences = 80, sequence_length = 3000\n"
     ]
    },
    {
     "data": {
      "text/plain": [
       "array([[0., 0., 0., ..., 1., 0., 1.],\n",
       "       [0., 0., 0., ..., 0., 0., 0.],\n",
       "       [0., 0., 0., ..., 0., 0., 1.],\n",
       "       ...,\n",
       "       [0., 0., 5., ..., 5., 0., 5.],\n",
       "       [5., 0., 5., ..., 0., 0., 0.],\n",
       "       [0., 2., 2., ..., 0., 2., 2.]])"
      ]
     },
     "execution_count": 41,
     "metadata": {},
     "output_type": "execute_result"
    }
   ],
   "source": [
    "n_sequences, sequence_length = labels_combined.shape\n",
    "print(f'{n_sequences = }, {sequence_length = }')\n",
    "labels_combined"
   ]
  },
  {
   "cell_type": "code",
   "execution_count": 42,
   "id": "1f78e342-cda1-47b4-aa81-08ec60d325b3",
   "metadata": {},
   "outputs": [
    {
     "data": {
      "text/plain": [
       "array([[5., 0., 0., ..., 1., 0., 0.],\n",
       "       [4., 0., 0., ..., 0., 0., 0.],\n",
       "       [0., 1., 0., ..., 3., 0., 1.],\n",
       "       ...,\n",
       "       [2., 0., 5., ..., 5., 0., 5.],\n",
       "       [5., 0., 5., ..., 0., 0., 0.],\n",
       "       [0., 2., 2., ..., 0., 2., 5.]])"
      ]
     },
     "execution_count": 42,
     "metadata": {},
     "output_type": "execute_result"
    }
   ],
   "source": [
    "set_random_seed(42)\n",
    "\n",
    "NOISE_RATIO = 0.2\n",
    "\n",
    "def add_noise(labels: np.ndarray) -> np.ndarray:\n",
    "    labels_noisy = np.copy(labels)\n",
    "    \n",
    "    noise_amount = int(sequence_length * NOISE_RATIO)\n",
    "\n",
    "    for sequence_nr in range(n_sequences):\n",
    "        noise_indices = np.random.choice(range(sequence_length), noise_amount, replace=False)\n",
    "        labels_noisy[sequence_nr, noise_indices] = np.random.randint(0, NUM_CLASSES - 1, size=noise_amount)\n",
    "    \n",
    "    return labels_noisy\n",
    "\n",
    "labels_noisy = add_noise(labels_combined)\n",
    "labels_noisy"
   ]
  },
  {
   "cell_type": "code",
   "execution_count": 55,
   "id": "45172328-a1ea-44a5-8f04-38694d74ae96",
   "metadata": {},
   "outputs": [
    {
     "name": "stderr",
     "output_type": "stream",
     "text": [
      "Fixing label sequences: 100%|███████████████████████████████████████████████████████████████████████████████████████████████████████████████████████████████████████████████████████████████████████████████████████████████████████████████| 80/80 [00:14<00:00,  5.66it/s]\n"
     ]
    }
   ],
   "source": [
    "labels_fixed = fix_labels_information_gain(\n",
    "    labels=labels_noisy, \n",
    "    window_size=32, \n",
    "    window_overlap=9, \n",
    "    splitting_point_window_shrink=5,\n",
    "    split_at_0_only=True,\n",
    "    information_gain_threshold=0.1,\n",
    ")"
   ]
  },
  {
   "cell_type": "code",
   "execution_count": 56,
   "id": "26c708a8-c8cc-4cee-9960-b59c1049cb7a",
   "metadata": {},
   "outputs": [
    {
     "name": "stdout",
     "output_type": "stream",
     "text": [
      "num_labels = 240000, num_correct = 199620, num_incorrect = 40380, num_correct_ratio = 0.83175, num_incorrect_ratio = 0.16825\n",
      "num_labels = 240000, num_correct = 203235, num_incorrect = 36765, num_correct_ratio = 0.8468125, num_incorrect_ratio = 0.1531875\n"
     ]
    }
   ],
   "source": [
    "num_labels = labels_combined.size\n",
    "\n",
    "def print_stats(labels_true, labels_pred):\n",
    "    num_labels = labels_true.size\n",
    "    \n",
    "    num_correct = (labels_true == labels_pred).sum()\n",
    "    num_incorrect = num_labels - num_correct\n",
    "    \n",
    "    assert num_correct + num_incorrect == num_labels\n",
    "\n",
    "    num_correct_ratio = num_correct / num_labels\n",
    "    num_incorrect_ratio = num_incorrect / num_labels\n",
    "    \n",
    "    print(f'{num_labels = }, {num_correct = }, {num_incorrect = }, {num_correct_ratio = }, {num_incorrect_ratio = }')\n",
    "\n",
    "print_stats(labels_combined, labels_noisy)\n",
    "print_stats(labels_combined, labels_fixed)"
   ]
  },
  {
   "cell_type": "code",
   "execution_count": null,
   "id": "c91a64c0-8a93-4ad0-9d59-5fe6f64ac427",
   "metadata": {},
   "outputs": [],
   "source": []
  }
 ],
 "metadata": {
  "kernelspec": {
   "display_name": "Python 3 (ipykernel)",
   "language": "python",
   "name": "python3"
  },
  "language_info": {
   "codemirror_mode": {
    "name": "ipython",
    "version": 3
   },
   "file_extension": ".py",
   "mimetype": "text/x-python",
   "name": "python",
   "nbconvert_exporter": "python",
   "pygments_lexer": "ipython3",
   "version": "3.9.5"
  }
 },
 "nbformat": 4,
 "nbformat_minor": 5
}
