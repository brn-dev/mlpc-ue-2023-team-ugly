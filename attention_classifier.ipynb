{
 "cells": [
  {
   "cell_type": "code",
   "execution_count": 59,
   "metadata": {
    "tags": []
   },
   "outputs": [
    {
     "name": "stdout",
     "output_type": "stream",
     "text": [
      "The autoreload extension is already loaded. To reload it, use:\n",
      "  %reload_ext autoreload\n"
     ]
    }
   ],
   "source": [
    "import numpy as np\n",
    "from torch import nn\n",
    "\n",
    "from lib.data_preprocessing import remove_correlated_columns, normalize_data\n",
    "from lib.ds.bird_classes import NUM_CLASSES\n",
    "from lib.ds.dataset_loading import load_all_data\n",
    "from lib.ds.dataset_splitting import split\n",
    "from lib.ds.torch_dataset import create_data_loader\n",
    "from lib.model.attention_classifier import AttentionClassifier, AttentionClassifierHyperParameters\n",
    "from lib.attention_classifier_training import train_attention_classifier_with_cv, train_attention_classifier, test_attention_classifier\n",
    "from lib.training_hyper_parameters import TrainingHyperParameters\n",
    "from lib.ds.numpy_dataset import NumpyDataset\n",
    "from lib.model.model_persistence import save_model, load_model\n",
    "from lib.random import set_random_seed\n",
    "import lib.torch_device as tdev\n",
    "import torch.optim.lr_scheduler as lr_scheduler\n",
    "\n",
    "%load_ext autoreload\n",
    "%autoreload 2"
   ]
  },
  {
   "cell_type": "code",
   "execution_count": 60,
   "metadata": {},
   "outputs": [
    {
     "data": {
      "text/plain": [
       "device(type='cuda', index=0)"
      ]
     },
     "execution_count": 60,
     "metadata": {},
     "output_type": "execute_result"
    }
   ],
   "source": [
    "# tdev.PREFERRED = 'cpu'\n",
    "device = tdev.get_torch_device()\n",
    "device"
   ]
  },
  {
   "cell_type": "code",
   "execution_count": 61,
   "metadata": {},
   "outputs": [],
   "source": [
    "data_train, labels_train, data_test, labels_test = split(*load_all_data('dataset'), seed=69421)"
   ]
  },
  {
   "cell_type": "code",
   "execution_count": 62,
   "metadata": {},
   "outputs": [
    {
     "name": "stdout",
     "output_type": "stream",
     "text": [
      "correlated_columns_to_drop = array([  0,  16,  17,  18,  19,  20,  21,  22,  23,  24,  25,  26,  27,\n",
      "        28,  29,  30,  31,  32,  33,  34,  35,  36,  37,  38,  39,  40,\n",
      "        41,  42,  43,  44,  45,  46,  47,  48,  49,  50,  51,  52,  53,\n",
      "        54,  55,  56,  57,  58,  59,  60,  61,  62,  63,  64,  65,  66,\n",
      "        67,  68,  69,  70,  71,  72,  73,  74,  78,  79,  80,  81,  82,\n",
      "        83,  84,  85,  86,  87,  88,  89,  90,  91,  92,  93,  94,  95,\n",
      "        96,  97,  98,  99, 100, 101, 102, 103, 104, 105, 106, 107, 108,\n",
      "       109, 110, 111, 112, 113, 114, 115, 116, 117, 118, 119, 120, 121,\n",
      "       122, 123, 124, 125, 126, 127, 128, 129, 130, 131, 133, 134, 156,\n",
      "       157, 158, 159, 160, 161, 162, 163, 164, 165, 166, 167, 168, 169,\n",
      "       170, 171, 172, 173, 174, 175, 176, 177, 178, 179, 180, 181, 182,\n",
      "       183, 184, 185, 186, 187, 188, 189, 190, 191, 192, 193, 194, 195,\n",
      "       196, 197, 198, 199, 200, 201, 202, 203, 204, 205, 206, 207, 208,\n",
      "       209, 210, 211, 212, 213, 214, 215, 216, 217, 218, 219, 220, 221,\n",
      "       222, 223, 224, 225, 226, 227, 228, 229, 230, 231, 232, 233, 234,\n",
      "       235, 236, 237, 238, 239, 240, 241, 242, 243, 244, 245, 246, 247,\n",
      "       248, 249, 250, 251, 252, 253, 254, 255, 292, 293, 294, 295, 296,\n",
      "       297, 298, 299, 300, 301, 302, 303, 304, 305, 306, 307, 308, 309,\n",
      "       310, 311, 312, 313, 314, 315, 316, 317, 318, 319, 320, 321, 322,\n",
      "       323, 324, 325, 326, 327, 328, 329, 330, 331, 332, 333, 335, 336,\n",
      "       338, 339, 340, 382, 383, 384, 385, 386, 387, 388, 389, 390, 391,\n",
      "       392, 393, 399, 400, 462, 463, 526, 527, 528, 529, 530])\n"
     ]
    }
   ],
   "source": [
    "data_train, data_test = remove_correlated_columns(data_train, data_test)"
   ]
  },
  {
   "cell_type": "code",
   "execution_count": 63,
   "metadata": {},
   "outputs": [
    {
     "data": {
      "text/plain": [
       "(960, 100, 264)"
      ]
     },
     "execution_count": 63,
     "metadata": {},
     "output_type": "execute_result"
    }
   ],
   "source": [
    "data_train.shape"
   ]
  },
  {
   "cell_type": "code",
   "execution_count": 64,
   "metadata": {},
   "outputs": [
    {
     "name": "stdout",
     "output_type": "stream",
     "text": [
      "(60, 100, 264)\n",
      "(60, 100)\n"
     ]
    }
   ],
   "source": [
    "set_random_seed(42)\n",
    "subset_indices = [\n",
    "    bird * data_train.shape[0] // 6 + sample_nr\n",
    "    for bird in range(6)\n",
    "    for sample_nr in range(10)\n",
    "]\n",
    "# data_train_subset = data_train[subset_indices, :, :]\n",
    "# labels_train_subset = labels_train[subset_indices, :]\n",
    "data_train_subset = data_train[subset_indices, :, :]\n",
    "labels_train_subset = labels_train[subset_indices, :]\n",
    "print(data_train_subset.shape)\n",
    "print(labels_train_subset.shape)"
   ]
  },
  {
   "cell_type": "markdown",
   "metadata": {},
   "source": [
    "## Hyper Parameters"
   ]
  },
  {
   "cell_type": "code",
   "execution_count": 65,
   "metadata": {},
   "outputs": [],
   "source": [
    "hyper_parameters = AttentionClassifierHyperParameters(\n",
    "    in_features=data_train.shape[-1],\n",
    "    out_features=NUM_CLASSES,\n",
    "    d_model=64,\n",
    "    num_heads=8,\n",
    "    stack_size=1,\n",
    "    dropout=0.1,\n",
    "    in_linear_hidden_out_features=[128],\n",
    "    out_linear_hidden_out_features=[128],\n",
    "    linear_activation_provider=lambda: nn.LeakyReLU(),\n",
    ")"
   ]
  },
  {
   "cell_type": "code",
   "execution_count": 66,
   "metadata": {},
   "outputs": [],
   "source": [
    "EPOCH_MULTIPLIER = 1\n",
    "\n",
    "training_hyper_parameters = TrainingHyperParameters(\n",
    "    batch_size=32,\n",
    "    num_epochs=int(150 * EPOCH_MULTIPLIER),\n",
    "    lr=5e-3,\n",
    "    lr_scheduler_provider=lambda optimizer: lr_scheduler.MultiStepLR(\n",
    "        optimizer, \n",
    "        milestones=[int(m * EPOCH_MULTIPLIER) for m in [20, 60, 100]],  # [10, 30, 60, 100]], \n",
    "        gamma=0.5\n",
    "    )\n",
    ")"
   ]
  },
  {
   "cell_type": "markdown",
   "metadata": {},
   "source": [
    "## Training"
   ]
  },
  {
   "cell_type": "code",
   "execution_count": 67,
   "metadata": {
    "collapsed": true,
    "jupyter": {
     "outputs_hidden": true
    },
    "tags": []
   },
   "outputs": [
    {
     "name": "stdout",
     "output_type": "stream",
     "text": [
      "Training fold 0\n",
      "Training AttentionClassifier with 68039 parameters\n",
      "loss_weight = tensor([ 1.0000, 15.8275,  9.6494, 10.6295, 36.9184, 17.7606, 19.8364],\n",
      "       device='cuda:0')\n",
      "Training Epoch 0  : lr = 0.005000, epoch_loss = 42.202817, num_correct = 13104, num_samples = 85536, acc = 0.153199, bacc = 0.332055\n",
      "Evaluated with loss = 0.043911, acc = 0.328598, bacc = 0.583867\n",
      "Training Epoch 1  : lr = 0.005000, epoch_loss = 23.993338, num_correct = 22511, num_samples = 85536, acc = 0.263176, bacc = 0.490375\n",
      "Evaluated with loss = 0.004087, acc = 0.306082, bacc = 0.759157\n",
      "Training Epoch 2  : lr = 0.005000, epoch_loss = 17.221240, num_correct = 25007, num_samples = 85536, acc = 0.292356, bacc = 0.583637\n",
      "Evaluated with loss = 0.005539, acc = 0.319655, bacc = 0.750041\n",
      "Training Epoch 3  : lr = 0.005000, epoch_loss = 14.737989, num_correct = 25822, num_samples = 85536, acc = 0.301885, bacc = 0.643599\n",
      "Evaluated with loss = 0.003549, acc = 0.345644, bacc = 0.778425\n",
      "Training Epoch 4  : lr = 0.005000, epoch_loss = 14.231354, num_correct = 26803, num_samples = 85536, acc = 0.313353, bacc = 0.678906\n",
      "Evaluated with loss = 0.004405, acc = 0.320602, bacc = 0.796837\n",
      "Training Epoch 5  : lr = 0.005000, epoch_loss = 13.454189, num_correct = 26236, num_samples = 85536, acc = 0.306725, bacc = 0.703629\n",
      "Evaluated with loss = 0.006320, acc = 0.300505, bacc = 0.699812\n",
      "Training Epoch 6  : lr = 0.005000, epoch_loss = 13.276656, num_correct = 25897, num_samples = 85536, acc = 0.302761, bacc = 0.721520\n",
      "Evaluated with loss = 0.003412, acc = 0.302083, bacc = 0.716102\n",
      "Training Epoch 7  : lr = 0.005000, epoch_loss = 13.253196, num_correct = 25801, num_samples = 85536, acc = 0.301639, bacc = 0.735168\n",
      "Evaluated with loss = 0.004913, acc = 0.319129, bacc = 0.781891\n",
      "Training Epoch 8  : lr = 0.005000, epoch_loss = 11.296777, num_correct = 26489, num_samples = 85536, acc = 0.309682, bacc = 0.748199\n",
      "Evaluated with loss = 0.004193, acc = 0.336911, bacc = 0.786656\n",
      "Training Epoch 9  : lr = 0.005000, epoch_loss = 11.271841, num_correct = 26506, num_samples = 85536, acc = 0.309881, bacc = 0.758709\n",
      "Evaluated with loss = 0.000379, acc = 0.363005, bacc = 0.810671\n",
      "Training Epoch 10 : lr = 0.005000, epoch_loss = 11.902025, num_correct = 26989, num_samples = 85536, acc = 0.315528, bacc = 0.766875\n",
      "Evaluated with loss = 0.000465, acc = 0.352799, bacc = 0.796859\n",
      "Training Epoch 11 : lr = 0.005000, epoch_loss = 10.951395, num_correct = 27755, num_samples = 85536, acc = 0.324483, bacc = 0.774141\n",
      "Evaluated with loss = 0.000425, acc = 0.346486, bacc = 0.811924\n",
      "Training Epoch 12 : lr = 0.005000, epoch_loss = 10.627577, num_correct = 27412, num_samples = 85536, acc = 0.320473, bacc = 0.780444\n",
      "Evaluated with loss = 0.000413, acc = 0.354482, bacc = 0.808650\n",
      "Training Epoch 13 : lr = 0.005000, epoch_loss = 10.586743, num_correct = 27598, num_samples = 85536, acc = 0.322648, bacc = 0.786003\n",
      "Evaluated with loss = 0.000400, acc = 0.376999, bacc = 0.793474\n",
      "Training Epoch 14 : lr = 0.005000, epoch_loss = 10.467861, num_correct = 27810, num_samples = 85536, acc = 0.325126, bacc = 0.790764\n",
      "Evaluated with loss = 0.000431, acc = 0.365109, bacc = 0.765182\n",
      "Training Epoch 15 : lr = 0.005000, epoch_loss = 10.538229, num_correct = 27689, num_samples = 85536, acc = 0.323712, bacc = 0.794983\n",
      "Evaluated with loss = 0.000417, acc = 0.353746, bacc = 0.773942\n",
      "Training Epoch 16 : lr = 0.005000, epoch_loss = 10.420677, num_correct = 28513, num_samples = 85536, acc = 0.333345, bacc = 0.798727\n",
      "Evaluated with loss = 0.000398, acc = 0.371317, bacc = 0.774201\n",
      "Training Epoch 17 : lr = 0.005000, epoch_loss = 10.416411, num_correct = 28555, num_samples = 85536, acc = 0.333836, bacc = 0.802155\n",
      "Evaluated with loss = 0.000418, acc = 0.331334, bacc = 0.756058\n",
      "Training Epoch 18 : lr = 0.005000, epoch_loss = 10.527651, num_correct = 27484, num_samples = 85536, acc = 0.321315, bacc = 0.805121\n",
      "Evaluated with loss = 0.000392, acc = 0.392045, bacc = 0.766403\n",
      "Training Epoch 19 : lr = 0.005000, epoch_loss = 10.774471, num_correct = 27847, num_samples = 85536, acc = 0.325559, bacc = 0.807764\n",
      "Evaluated with loss = 0.000399, acc = 0.345013, bacc = 0.793438\n",
      "Training Epoch 20 : lr = 0.002500, epoch_loss = 10.523843, num_correct = 27716, num_samples = 85536, acc = 0.324027, bacc = 0.810106\n",
      "Evaluated with loss = 0.000408, acc = 0.339962, bacc = 0.811277\n",
      "Training Epoch 21 : lr = 0.002500, epoch_loss = 10.201617, num_correct = 28744, num_samples = 85536, acc = 0.336046, bacc = 0.812448\n",
      "Evaluated with loss = 0.000374, acc = 0.355219, bacc = 0.789985\n",
      "Training Epoch 22 : lr = 0.002500, epoch_loss = 10.108893, num_correct = 28661, num_samples = 85536, acc = 0.335075, bacc = 0.814642\n",
      "Evaluated with loss = 0.000365, acc = 0.375737, bacc = 0.786245\n",
      "Training Epoch 23 : lr = 0.002500, epoch_loss = 10.071050, num_correct = 28934, num_samples = 85536, acc = 0.338267, bacc = 0.816644\n",
      "Evaluated with loss = 0.000387, acc = 0.360795, bacc = 0.791159\n",
      "Training Epoch 24 : lr = 0.002500, epoch_loss = 9.979581, num_correct = 29183, num_samples = 85536, acc = 0.341178, bacc = 0.818484\n",
      "Evaluated with loss = 0.000387, acc = 0.364583, bacc = 0.789882\n",
      "Training Epoch 25 : lr = 0.002500, epoch_loss = 9.979639, num_correct = 29053, num_samples = 85536, acc = 0.339658, bacc = 0.820220\n",
      "Evaluated with loss = 0.000385, acc = 0.363847, bacc = 0.800656\n",
      "Training Epoch 26 : lr = 0.002500, epoch_loss = 9.972985, num_correct = 29009, num_samples = 85536, acc = 0.339144, bacc = 0.821802\n",
      "Evaluated with loss = 0.000393, acc = 0.367635, bacc = 0.785526\n",
      "Training Epoch 27 : lr = 0.002500, epoch_loss = 9.992926, num_correct = 29312, num_samples = 85536, acc = 0.342686, bacc = 0.823269\n",
      "Evaluated with loss = 0.000392, acc = 0.367529, bacc = 0.788506\n",
      "Training Epoch 28 : lr = 0.002500, epoch_loss = 10.122538, num_correct = 29521, num_samples = 85536, acc = 0.345130, bacc = 0.824584\n",
      "Evaluated with loss = 0.000381, acc = 0.391098, bacc = 0.792992\n",
      "Training Epoch 29 : lr = 0.002500, epoch_loss = 10.051208, num_correct = 28946, num_samples = 85536, acc = 0.338407, bacc = 0.825848\n",
      "Evaluated with loss = 0.000397, acc = 0.347748, bacc = 0.799765\n",
      "Training Epoch 30 : lr = 0.002500, epoch_loss = 9.970387, num_correct = 29063, num_samples = 85536, acc = 0.339775, bacc = 0.827063\n",
      "Evaluated with loss = 0.000396, acc = 0.325968, bacc = 0.809006\n",
      "Training Epoch 31 : lr = 0.002500, epoch_loss = 9.901482, num_correct = 29277, num_samples = 85536, acc = 0.342277, bacc = 0.828209\n",
      "Evaluated with loss = 0.000425, acc = 0.334491, bacc = 0.806408\n",
      "Training Epoch 32 : lr = 0.002500, epoch_loss = 9.919637, num_correct = 29255, num_samples = 85536, acc = 0.342020, bacc = 0.829282\n",
      "Evaluated with loss = 0.000392, acc = 0.369529, bacc = 0.798109\n",
      "Training Epoch 33 : lr = 0.002500, epoch_loss = 10.018733, num_correct = 29699, num_samples = 85536, acc = 0.347211, bacc = 0.830227\n",
      "Evaluated with loss = 0.000382, acc = 0.348590, bacc = 0.784248\n"
     ]
    },
    {
     "ename": "KeyboardInterrupt",
     "evalue": "",
     "output_type": "error",
     "traceback": [
      "\u001b[1;31m---------------------------------------------------------------------------\u001b[0m",
      "\u001b[1;31mKeyboardInterrupt\u001b[0m                         Traceback (most recent call last)",
      "Input \u001b[1;32mIn [67]\u001b[0m, in \u001b[0;36m<cell line: 3>\u001b[1;34m()\u001b[0m\n\u001b[0;32m      1\u001b[0m set_random_seed(\u001b[38;5;241m42\u001b[39m)\n\u001b[1;32m----> 3\u001b[0m cv_models \u001b[38;5;241m=\u001b[39m \u001b[43mtrain_attention_classifier_with_cv\u001b[49m\u001b[43m(\u001b[49m\n\u001b[0;32m      4\u001b[0m \u001b[43m    \u001b[49m\u001b[43mhyper_parameters\u001b[49m\u001b[43m,\u001b[49m\u001b[43m \u001b[49m\n\u001b[0;32m      5\u001b[0m \u001b[43m    \u001b[49m\u001b[43mtraining_hyper_parameters\u001b[49m\u001b[43m,\u001b[49m\u001b[43m \u001b[49m\n\u001b[0;32m      6\u001b[0m \u001b[43m    \u001b[49m\u001b[43mNumpyDataset\u001b[49m\u001b[43m(\u001b[49m\u001b[43mdata_train\u001b[49m\u001b[43m,\u001b[49m\u001b[43m \u001b[49m\u001b[43mlabels_train\u001b[49m\u001b[43m)\u001b[49m\u001b[43m,\u001b[49m\n\u001b[0;32m      7\u001b[0m \u001b[43m    \u001b[49m\u001b[43mdevice\u001b[49m\n\u001b[0;32m      8\u001b[0m \u001b[43m)\u001b[49m\n",
      "File \u001b[1;32m~\\Dropbox\\jku\\2023SS\\344.091 - Machine Learning and Pattern Classification\\lib\\attention_classifier_training.py:47\u001b[0m, in \u001b[0;36mtrain_attention_classifier_with_cv\u001b[1;34m(hyper_parameters, training_hyper_parameters, dataset, device)\u001b[0m\n\u001b[0;32m     44\u001b[0m     save_model(model, \u001b[38;5;124mf\u001b[39m\u001b[38;5;124m'\u001b[39m\u001b[38;5;124mattention_classifier fold-\u001b[39m\u001b[38;5;132;01m{\u001b[39;00mfold_nr\u001b[38;5;132;01m}\u001b[39;00m\u001b[38;5;124m.pt\u001b[39m\u001b[38;5;124m'\u001b[39m)\n\u001b[0;32m     45\u001b[0m     models\u001b[38;5;241m.\u001b[39mappend(model)\n\u001b[1;32m---> 47\u001b[0m \u001b[43mtrain_with_cv\u001b[49m\u001b[43m(\u001b[49m\u001b[43mdataset\u001b[49m\u001b[43m,\u001b[49m\u001b[43m \u001b[49m\u001b[43mtrain_func\u001b[49m\u001b[43m)\u001b[49m\n\u001b[0;32m     48\u001b[0m \u001b[38;5;28;01mreturn\u001b[39;00m models\n",
      "File \u001b[1;32m~\\Dropbox\\jku\\2023SS\\344.091 - Machine Learning and Pattern Classification\\lib\\training.py:30\u001b[0m, in \u001b[0;36mtrain_with_cv\u001b[1;34m(dataset, train_func, n_folds)\u001b[0m\n\u001b[0;32m     25\u001b[0m labels_train \u001b[38;5;241m=\u001b[39m labels_folds[np\u001b[38;5;241m.\u001b[39msetdiff1d(\u001b[38;5;28mrange\u001b[39m(n_folds), fold)] \\\n\u001b[0;32m     26\u001b[0m     \u001b[38;5;241m.\u001b[39mreshape((\u001b[38;5;241m-\u001b[39m\u001b[38;5;241m1\u001b[39m, labels_folds\u001b[38;5;241m.\u001b[39mshape[\u001b[38;5;241m-\u001b[39m\u001b[38;5;241m1\u001b[39m]))\n\u001b[0;32m     28\u001b[0m data_train_normalized, data_validation_normalized \u001b[38;5;241m=\u001b[39m normalize_data(data_train, data_validation)\n\u001b[1;32m---> 30\u001b[0m \u001b[43mtrain_func\u001b[49m\u001b[43m(\u001b[49m\n\u001b[0;32m     31\u001b[0m \u001b[43m    \u001b[49m\u001b[43mfold\u001b[49m\u001b[43m,\u001b[49m\n\u001b[0;32m     32\u001b[0m \u001b[43m    \u001b[49m\u001b[43mNumpyDataset\u001b[49m\u001b[43m(\u001b[49m\u001b[43mdata_train_normalized\u001b[49m\u001b[43m,\u001b[49m\u001b[43m \u001b[49m\u001b[43mlabels_train\u001b[49m\u001b[43m)\u001b[49m\u001b[43m,\u001b[49m\n\u001b[0;32m     33\u001b[0m \u001b[43m    \u001b[49m\u001b[43mNumpyDataset\u001b[49m\u001b[43m(\u001b[49m\u001b[43mdata_validation_normalized\u001b[49m\u001b[43m,\u001b[49m\u001b[43m \u001b[49m\u001b[43mlabels_validation\u001b[49m\u001b[43m)\u001b[49m\n\u001b[0;32m     34\u001b[0m \u001b[43m\u001b[49m\u001b[43m)\u001b[49m\n",
      "File \u001b[1;32m~\\Dropbox\\jku\\2023SS\\344.091 - Machine Learning and Pattern Classification\\lib\\attention_classifier_training.py:32\u001b[0m, in \u001b[0;36mtrain_attention_classifier_with_cv.<locals>.train_func\u001b[1;34m(fold_nr, train_ds, eval_ds)\u001b[0m\n\u001b[0;32m     30\u001b[0m \u001b[38;5;28;01mdef\u001b[39;00m \u001b[38;5;21mtrain_func\u001b[39m(fold_nr: \u001b[38;5;28mint\u001b[39m, train_ds: NumpyDataset, eval_ds: NumpyDataset):\n\u001b[0;32m     31\u001b[0m     \u001b[38;5;28mprint\u001b[39m(\u001b[38;5;124mf\u001b[39m\u001b[38;5;124m'\u001b[39m\u001b[38;5;124mTraining fold \u001b[39m\u001b[38;5;132;01m{\u001b[39;00mfold_nr\u001b[38;5;132;01m}\u001b[39;00m\u001b[38;5;124m'\u001b[39m)\n\u001b[1;32m---> 32\u001b[0m     model \u001b[38;5;241m=\u001b[39m \u001b[43mtrain_attention_classifier\u001b[49m\u001b[43m(\u001b[49m\n\u001b[0;32m     33\u001b[0m \u001b[43m        \u001b[49m\u001b[43mhyper_parameters\u001b[49m\u001b[43m,\u001b[49m\n\u001b[0;32m     34\u001b[0m \u001b[43m        \u001b[49m\u001b[43mtraining_hyper_parameters\u001b[49m\u001b[43m,\u001b[49m\n\u001b[0;32m     35\u001b[0m \u001b[43m        \u001b[49m\u001b[43mtrain_ds\u001b[49m\u001b[43m,\u001b[49m\n\u001b[0;32m     36\u001b[0m \u001b[43m        \u001b[49m\u001b[43meval_ds\u001b[49m\u001b[43m,\u001b[49m\n\u001b[0;32m     37\u001b[0m \u001b[43m        \u001b[49m\u001b[43mdevice\u001b[49m\n\u001b[0;32m     38\u001b[0m \u001b[43m    \u001b[49m\u001b[43m)\u001b[49m\n\u001b[0;32m     40\u001b[0m     \u001b[38;5;28mprint\u001b[39m(\u001b[38;5;124mf\u001b[39m\u001b[38;5;124m'\u001b[39m\u001b[38;5;124mEvaluating fold \u001b[39m\u001b[38;5;132;01m{\u001b[39;00mfold_nr\u001b[38;5;132;01m}\u001b[39;00m\u001b[38;5;124m'\u001b[39m)\n\u001b[0;32m     41\u001b[0m     eval_data_loader \u001b[38;5;241m=\u001b[39m create_data_loader(eval_ds\u001b[38;5;241m.\u001b[39mdata, eval_ds\u001b[38;5;241m.\u001b[39mlabels, training_hyper_parameters\u001b[38;5;241m.\u001b[39mbatch_size)\n",
      "File \u001b[1;32m~\\Dropbox\\jku\\2023SS\\344.091 - Machine Learning and Pattern Classification\\lib\\attention_classifier_training.py:80\u001b[0m, in \u001b[0;36mtrain_attention_classifier\u001b[1;34m(hyper_parameters, training_hyper_parameters, train_ds, eval_ds, device)\u001b[0m\n\u001b[0;32m     77\u001b[0m loss_weight \u001b[38;5;241m=\u001b[39m calculate_loss_weight(train_ds\u001b[38;5;241m.\u001b[39mlabels)\n\u001b[0;32m     78\u001b[0m \u001b[38;5;28mprint\u001b[39m(\u001b[38;5;124mf\u001b[39m\u001b[38;5;124m'\u001b[39m\u001b[38;5;132;01m{\u001b[39;00mloss_weight \u001b[38;5;132;01m= }\u001b[39;00m\u001b[38;5;124m'\u001b[39m)\n\u001b[1;32m---> 80\u001b[0m \u001b[43m_train_attention_classifier\u001b[49m\u001b[43m(\u001b[49m\n\u001b[0;32m     81\u001b[0m \u001b[43m    \u001b[49m\u001b[43mattention_classifier\u001b[49m\u001b[43m,\u001b[49m\n\u001b[0;32m     82\u001b[0m \u001b[43m    \u001b[49m\u001b[43mtrain_data_loader\u001b[49m\u001b[43m,\u001b[49m\n\u001b[0;32m     83\u001b[0m \u001b[43m    \u001b[49m\u001b[43meval_data_loader\u001b[49m\u001b[43m,\u001b[49m\n\u001b[0;32m     84\u001b[0m \u001b[43m    \u001b[49m\u001b[43moptimizer\u001b[49m\u001b[43m,\u001b[49m\n\u001b[0;32m     85\u001b[0m \u001b[43m    \u001b[49m\u001b[43mloss_weight\u001b[49m\u001b[43m,\u001b[49m\n\u001b[0;32m     86\u001b[0m \u001b[43m    \u001b[49m\u001b[43mtraining_hyper_parameters\u001b[49m\u001b[38;5;241;43m.\u001b[39;49m\u001b[43mnum_epochs\u001b[49m\u001b[43m,\u001b[49m\n\u001b[0;32m     87\u001b[0m \u001b[43m    \u001b[49m\u001b[43mlr_scheduler\u001b[49m\u001b[43m,\u001b[49m\n\u001b[0;32m     88\u001b[0m \u001b[43m    \u001b[49m\u001b[43mdevice\u001b[49m\n\u001b[0;32m     89\u001b[0m \u001b[43m\u001b[49m\u001b[43m)\u001b[49m\n\u001b[0;32m     91\u001b[0m \u001b[38;5;28;01mreturn\u001b[39;00m attention_classifier\n",
      "File \u001b[1;32m~\\Dropbox\\jku\\2023SS\\344.091 - Machine Learning and Pattern Classification\\lib\\attention_classifier_training.py:137\u001b[0m, in \u001b[0;36m_train_attention_classifier\u001b[1;34m(model, train_data_loader, eval_data_loader, optimizer, loss_weight, num_epochs, lr_scheduler, device)\u001b[0m\n\u001b[0;32m    134\u001b[0m     all_target_labels \u001b[38;5;241m=\u001b[39m torch\u001b[38;5;241m.\u001b[39mcat((all_target_labels, labels\u001b[38;5;241m.\u001b[39mcpu()))\n\u001b[0;32m    136\u001b[0m acc \u001b[38;5;241m=\u001b[39m num_correct \u001b[38;5;241m/\u001b[39m num_samples\n\u001b[1;32m--> 137\u001b[0m bacc \u001b[38;5;241m=\u001b[39m \u001b[43msklearn\u001b[49m\u001b[38;5;241;43m.\u001b[39;49m\u001b[43mmetrics\u001b[49m\u001b[38;5;241;43m.\u001b[39;49m\u001b[43mbalanced_accuracy_score\u001b[49m\u001b[43m(\u001b[49m\u001b[43mall_target_labels\u001b[49m\u001b[43m,\u001b[49m\u001b[43m \u001b[49m\u001b[43mall_pred_labels\u001b[49m\u001b[43m)\u001b[49m\n\u001b[0;32m    138\u001b[0m \u001b[38;5;28mprint\u001b[39m(\n\u001b[0;32m    139\u001b[0m     \u001b[38;5;124mf\u001b[39m\u001b[38;5;124m'\u001b[39m\u001b[38;5;124mTraining Epoch \u001b[39m\u001b[38;5;132;01m{\u001b[39;00mepoch\u001b[38;5;132;01m:\u001b[39;00m\u001b[38;5;124m<3\u001b[39m\u001b[38;5;132;01m}\u001b[39;00m\u001b[38;5;124m: \u001b[39m\u001b[38;5;124m'\u001b[39m\n\u001b[0;32m    140\u001b[0m     \u001b[38;5;124mf\u001b[39m\u001b[38;5;124m'\u001b[39m\u001b[38;5;124mlr = \u001b[39m\u001b[38;5;132;01m{\u001b[39;00mget_lr(optimizer)\u001b[38;5;132;01m:\u001b[39;00m\u001b[38;5;124m.6f\u001b[39m\u001b[38;5;132;01m}\u001b[39;00m\u001b[38;5;124m, \u001b[39m\u001b[38;5;124m'\u001b[39m\n\u001b[1;32m   (...)\u001b[0m\n\u001b[0;32m    145\u001b[0m     \u001b[38;5;124mf\u001b[39m\u001b[38;5;124m'\u001b[39m\u001b[38;5;132;01m{\u001b[39;00mbacc \u001b[38;5;132;01m= :\u001b[39;00m\u001b[38;5;124m.6f\u001b[39m\u001b[38;5;132;01m}\u001b[39;00m\u001b[38;5;124m'\u001b[39m\n\u001b[0;32m    146\u001b[0m )\n\u001b[0;32m    148\u001b[0m \u001b[38;5;28;01mif\u001b[39;00m lr_scheduler \u001b[38;5;129;01mis\u001b[39;00m \u001b[38;5;129;01mnot\u001b[39;00m \u001b[38;5;28;01mNone\u001b[39;00m:\n",
      "File \u001b[1;32mc:\\python39\\lib\\site-packages\\sklearn\\metrics\\_classification.py:2180\u001b[0m, in \u001b[0;36mbalanced_accuracy_score\u001b[1;34m(y_true, y_pred, sample_weight, adjusted)\u001b[0m\n\u001b[0;32m   2111\u001b[0m \u001b[38;5;28;01mdef\u001b[39;00m \u001b[38;5;21mbalanced_accuracy_score\u001b[39m(y_true, y_pred, \u001b[38;5;241m*\u001b[39m, sample_weight\u001b[38;5;241m=\u001b[39m\u001b[38;5;28;01mNone\u001b[39;00m, adjusted\u001b[38;5;241m=\u001b[39m\u001b[38;5;28;01mFalse\u001b[39;00m):\n\u001b[0;32m   2112\u001b[0m     \u001b[38;5;124;03m\"\"\"Compute the balanced accuracy.\u001b[39;00m\n\u001b[0;32m   2113\u001b[0m \n\u001b[0;32m   2114\u001b[0m \u001b[38;5;124;03m    The balanced accuracy in binary and multiclass classification problems to\u001b[39;00m\n\u001b[1;32m   (...)\u001b[0m\n\u001b[0;32m   2178\u001b[0m \u001b[38;5;124;03m    0.625\u001b[39;00m\n\u001b[0;32m   2179\u001b[0m \u001b[38;5;124;03m    \"\"\"\u001b[39;00m\n\u001b[1;32m-> 2180\u001b[0m     C \u001b[38;5;241m=\u001b[39m \u001b[43mconfusion_matrix\u001b[49m\u001b[43m(\u001b[49m\u001b[43my_true\u001b[49m\u001b[43m,\u001b[49m\u001b[43m \u001b[49m\u001b[43my_pred\u001b[49m\u001b[43m,\u001b[49m\u001b[43m \u001b[49m\u001b[43msample_weight\u001b[49m\u001b[38;5;241;43m=\u001b[39;49m\u001b[43msample_weight\u001b[49m\u001b[43m)\u001b[49m\n\u001b[0;32m   2181\u001b[0m     \u001b[38;5;28;01mwith\u001b[39;00m np\u001b[38;5;241m.\u001b[39merrstate(divide\u001b[38;5;241m=\u001b[39m\u001b[38;5;124m\"\u001b[39m\u001b[38;5;124mignore\u001b[39m\u001b[38;5;124m\"\u001b[39m, invalid\u001b[38;5;241m=\u001b[39m\u001b[38;5;124m\"\u001b[39m\u001b[38;5;124mignore\u001b[39m\u001b[38;5;124m\"\u001b[39m):\n\u001b[0;32m   2182\u001b[0m         per_class \u001b[38;5;241m=\u001b[39m np\u001b[38;5;241m.\u001b[39mdiag(C) \u001b[38;5;241m/\u001b[39m C\u001b[38;5;241m.\u001b[39msum(axis\u001b[38;5;241m=\u001b[39m\u001b[38;5;241m1\u001b[39m)\n",
      "File \u001b[1;32mc:\\python39\\lib\\site-packages\\sklearn\\metrics\\_classification.py:317\u001b[0m, in \u001b[0;36mconfusion_matrix\u001b[1;34m(y_true, y_pred, labels, sample_weight, normalize)\u001b[0m\n\u001b[0;32m    232\u001b[0m \u001b[38;5;28;01mdef\u001b[39;00m \u001b[38;5;21mconfusion_matrix\u001b[39m(\n\u001b[0;32m    233\u001b[0m     y_true, y_pred, \u001b[38;5;241m*\u001b[39m, labels\u001b[38;5;241m=\u001b[39m\u001b[38;5;28;01mNone\u001b[39;00m, sample_weight\u001b[38;5;241m=\u001b[39m\u001b[38;5;28;01mNone\u001b[39;00m, normalize\u001b[38;5;241m=\u001b[39m\u001b[38;5;28;01mNone\u001b[39;00m\n\u001b[0;32m    234\u001b[0m ):\n\u001b[0;32m    235\u001b[0m     \u001b[38;5;124;03m\"\"\"Compute confusion matrix to evaluate the accuracy of a classification.\u001b[39;00m\n\u001b[0;32m    236\u001b[0m \n\u001b[0;32m    237\u001b[0m \u001b[38;5;124;03m    By definition a confusion matrix :math:`C` is such that :math:`C_{i, j}`\u001b[39;00m\n\u001b[1;32m   (...)\u001b[0m\n\u001b[0;32m    315\u001b[0m \u001b[38;5;124;03m    (0, 2, 1, 1)\u001b[39;00m\n\u001b[0;32m    316\u001b[0m \u001b[38;5;124;03m    \"\"\"\u001b[39;00m\n\u001b[1;32m--> 317\u001b[0m     y_type, y_true, y_pred \u001b[38;5;241m=\u001b[39m \u001b[43m_check_targets\u001b[49m\u001b[43m(\u001b[49m\u001b[43my_true\u001b[49m\u001b[43m,\u001b[49m\u001b[43m \u001b[49m\u001b[43my_pred\u001b[49m\u001b[43m)\u001b[49m\n\u001b[0;32m    318\u001b[0m     \u001b[38;5;28;01mif\u001b[39;00m y_type \u001b[38;5;129;01mnot\u001b[39;00m \u001b[38;5;129;01min\u001b[39;00m (\u001b[38;5;124m\"\u001b[39m\u001b[38;5;124mbinary\u001b[39m\u001b[38;5;124m\"\u001b[39m, \u001b[38;5;124m\"\u001b[39m\u001b[38;5;124mmulticlass\u001b[39m\u001b[38;5;124m\"\u001b[39m):\n\u001b[0;32m    319\u001b[0m         \u001b[38;5;28;01mraise\u001b[39;00m \u001b[38;5;167;01mValueError\u001b[39;00m(\u001b[38;5;124m\"\u001b[39m\u001b[38;5;132;01m%s\u001b[39;00m\u001b[38;5;124m is not supported\u001b[39m\u001b[38;5;124m\"\u001b[39m \u001b[38;5;241m%\u001b[39m y_type)\n",
      "File \u001b[1;32mc:\\python39\\lib\\site-packages\\sklearn\\metrics\\_classification.py:87\u001b[0m, in \u001b[0;36m_check_targets\u001b[1;34m(y_true, y_pred)\u001b[0m\n\u001b[0;32m     60\u001b[0m \u001b[38;5;124;03m\"\"\"Check that y_true and y_pred belong to the same classification task.\u001b[39;00m\n\u001b[0;32m     61\u001b[0m \n\u001b[0;32m     62\u001b[0m \u001b[38;5;124;03mThis converts multiclass or binary types to a common shape, and raises a\u001b[39;00m\n\u001b[1;32m   (...)\u001b[0m\n\u001b[0;32m     84\u001b[0m \u001b[38;5;124;03my_pred : array or indicator matrix\u001b[39;00m\n\u001b[0;32m     85\u001b[0m \u001b[38;5;124;03m\"\"\"\u001b[39;00m\n\u001b[0;32m     86\u001b[0m check_consistent_length(y_true, y_pred)\n\u001b[1;32m---> 87\u001b[0m type_true \u001b[38;5;241m=\u001b[39m \u001b[43mtype_of_target\u001b[49m\u001b[43m(\u001b[49m\u001b[43my_true\u001b[49m\u001b[43m,\u001b[49m\u001b[43m \u001b[49m\u001b[43minput_name\u001b[49m\u001b[38;5;241;43m=\u001b[39;49m\u001b[38;5;124;43m\"\u001b[39;49m\u001b[38;5;124;43my_true\u001b[39;49m\u001b[38;5;124;43m\"\u001b[39;49m\u001b[43m)\u001b[49m\n\u001b[0;32m     88\u001b[0m type_pred \u001b[38;5;241m=\u001b[39m type_of_target(y_pred, input_name\u001b[38;5;241m=\u001b[39m\u001b[38;5;124m\"\u001b[39m\u001b[38;5;124my_pred\u001b[39m\u001b[38;5;124m\"\u001b[39m)\n\u001b[0;32m     90\u001b[0m y_type \u001b[38;5;241m=\u001b[39m {type_true, type_pred}\n",
      "File \u001b[1;32mc:\\python39\\lib\\site-packages\\sklearn\\utils\\multiclass.py:386\u001b[0m, in \u001b[0;36mtype_of_target\u001b[1;34m(y, input_name)\u001b[0m\n\u001b[0;32m    384\u001b[0m \u001b[38;5;66;03m# Check multiclass\u001b[39;00m\n\u001b[0;32m    385\u001b[0m first_row \u001b[38;5;241m=\u001b[39m y[\u001b[38;5;241m0\u001b[39m] \u001b[38;5;28;01mif\u001b[39;00m \u001b[38;5;129;01mnot\u001b[39;00m issparse(y) \u001b[38;5;28;01melse\u001b[39;00m y\u001b[38;5;241m.\u001b[39mgetrow(\u001b[38;5;241m0\u001b[39m)\u001b[38;5;241m.\u001b[39mdata\n\u001b[1;32m--> 386\u001b[0m \u001b[38;5;28;01mif\u001b[39;00m \u001b[43mxp\u001b[49m\u001b[38;5;241;43m.\u001b[39;49m\u001b[43munique_values\u001b[49m\u001b[43m(\u001b[49m\u001b[43my\u001b[49m\u001b[43m)\u001b[49m\u001b[38;5;241m.\u001b[39mshape[\u001b[38;5;241m0\u001b[39m] \u001b[38;5;241m>\u001b[39m \u001b[38;5;241m2\u001b[39m \u001b[38;5;129;01mor\u001b[39;00m (y\u001b[38;5;241m.\u001b[39mndim \u001b[38;5;241m==\u001b[39m \u001b[38;5;241m2\u001b[39m \u001b[38;5;129;01mand\u001b[39;00m \u001b[38;5;28mlen\u001b[39m(first_row) \u001b[38;5;241m>\u001b[39m \u001b[38;5;241m1\u001b[39m):\n\u001b[0;32m    387\u001b[0m     \u001b[38;5;66;03m# [1, 2, 3] or [[1., 2., 3]] or [[1, 2]]\u001b[39;00m\n\u001b[0;32m    388\u001b[0m     \u001b[38;5;28;01mreturn\u001b[39;00m \u001b[38;5;124m\"\u001b[39m\u001b[38;5;124mmulticlass\u001b[39m\u001b[38;5;124m\"\u001b[39m \u001b[38;5;241m+\u001b[39m suffix\n\u001b[0;32m    389\u001b[0m \u001b[38;5;28;01melse\u001b[39;00m:\n",
      "File \u001b[1;32mc:\\python39\\lib\\site-packages\\sklearn\\utils\\_array_api.py:84\u001b[0m, in \u001b[0;36m_NumPyApiWrapper.unique_values\u001b[1;34m(self, x)\u001b[0m\n\u001b[0;32m     83\u001b[0m \u001b[38;5;28;01mdef\u001b[39;00m \u001b[38;5;21munique_values\u001b[39m(\u001b[38;5;28mself\u001b[39m, x):\n\u001b[1;32m---> 84\u001b[0m     \u001b[38;5;28;01mreturn\u001b[39;00m \u001b[43mnumpy\u001b[49m\u001b[38;5;241;43m.\u001b[39;49m\u001b[43munique\u001b[49m\u001b[43m(\u001b[49m\u001b[43mx\u001b[49m\u001b[43m)\u001b[49m\n",
      "File \u001b[1;32m<__array_function__ internals>:200\u001b[0m, in \u001b[0;36munique\u001b[1;34m(*args, **kwargs)\u001b[0m\n",
      "File \u001b[1;32mc:\\python39\\lib\\site-packages\\numpy\\lib\\arraysetops.py:274\u001b[0m, in \u001b[0;36munique\u001b[1;34m(ar, return_index, return_inverse, return_counts, axis, equal_nan)\u001b[0m\n\u001b[0;32m    272\u001b[0m ar \u001b[38;5;241m=\u001b[39m np\u001b[38;5;241m.\u001b[39masanyarray(ar)\n\u001b[0;32m    273\u001b[0m \u001b[38;5;28;01mif\u001b[39;00m axis \u001b[38;5;129;01mis\u001b[39;00m \u001b[38;5;28;01mNone\u001b[39;00m:\n\u001b[1;32m--> 274\u001b[0m     ret \u001b[38;5;241m=\u001b[39m \u001b[43m_unique1d\u001b[49m\u001b[43m(\u001b[49m\u001b[43mar\u001b[49m\u001b[43m,\u001b[49m\u001b[43m \u001b[49m\u001b[43mreturn_index\u001b[49m\u001b[43m,\u001b[49m\u001b[43m \u001b[49m\u001b[43mreturn_inverse\u001b[49m\u001b[43m,\u001b[49m\u001b[43m \u001b[49m\u001b[43mreturn_counts\u001b[49m\u001b[43m,\u001b[49m\u001b[43m \u001b[49m\n\u001b[0;32m    275\u001b[0m \u001b[43m                    \u001b[49m\u001b[43mequal_nan\u001b[49m\u001b[38;5;241;43m=\u001b[39;49m\u001b[43mequal_nan\u001b[49m\u001b[43m)\u001b[49m\n\u001b[0;32m    276\u001b[0m     \u001b[38;5;28;01mreturn\u001b[39;00m _unpack_tuple(ret)\n\u001b[0;32m    278\u001b[0m \u001b[38;5;66;03m# axis was specified and not None\u001b[39;00m\n",
      "File \u001b[1;32mc:\\python39\\lib\\site-packages\\numpy\\lib\\arraysetops.py:336\u001b[0m, in \u001b[0;36m_unique1d\u001b[1;34m(ar, return_index, return_inverse, return_counts, equal_nan)\u001b[0m\n\u001b[0;32m    334\u001b[0m     aux \u001b[38;5;241m=\u001b[39m ar[perm]\n\u001b[0;32m    335\u001b[0m \u001b[38;5;28;01melse\u001b[39;00m:\n\u001b[1;32m--> 336\u001b[0m     \u001b[43mar\u001b[49m\u001b[38;5;241;43m.\u001b[39;49m\u001b[43msort\u001b[49m\u001b[43m(\u001b[49m\u001b[43m)\u001b[49m\n\u001b[0;32m    337\u001b[0m     aux \u001b[38;5;241m=\u001b[39m ar\n\u001b[0;32m    338\u001b[0m mask \u001b[38;5;241m=\u001b[39m np\u001b[38;5;241m.\u001b[39mempty(aux\u001b[38;5;241m.\u001b[39mshape, dtype\u001b[38;5;241m=\u001b[39mnp\u001b[38;5;241m.\u001b[39mbool_)\n",
      "\u001b[1;31mKeyboardInterrupt\u001b[0m: "
     ]
    }
   ],
   "source": [
    "set_random_seed(42)\n",
    "\n",
    "cv_models = train_attention_classifier_with_cv(\n",
    "    hyper_parameters, \n",
    "    training_hyper_parameters, \n",
    "    NumpyDataset(data_train, labels_train),\n",
    "    device\n",
    ")"
   ]
  },
  {
   "cell_type": "code",
   "execution_count": 68,
   "metadata": {
    "tags": []
   },
   "outputs": [
    {
     "name": "stdout",
     "output_type": "stream",
     "text": [
      "Training AttentionClassifier with 68039 parameters\n",
      "loss_weight = tensor([ 1.0000, 15.3204,  9.3547, 10.4259, 36.4963, 17.9374, 19.6462],\n",
      "       device='cuda:0')\n",
      "Training Epoch 0  : lr = 0.005000, epoch_loss = 61.057405, num_correct = 17172, num_samples = 95040, acc = 0.180682, bacc = 0.227976\n",
      "Training Epoch 1  : lr = 0.005000, epoch_loss = 76.761902, num_correct =  2565, num_samples = 95040, acc = 0.026989, bacc = 0.150810\n",
      "Training Epoch 2  : lr = 0.005000, epoch_loss = 70.233804, num_correct =  3614, num_samples = 95040, acc = 0.038026, bacc = 0.130356\n",
      "Training Epoch 3  : lr = 0.005000, epoch_loss = 70.193547, num_correct =  5435, num_samples = 95040, acc = 0.057186, bacc = 0.145486\n",
      "Training Epoch 4  : lr = 0.005000, epoch_loss = 70.291492, num_correct = 28746, num_samples = 95040, acc = 0.302462, bacc = 0.155497\n",
      "Training Epoch 5  : lr = 0.005000, epoch_loss = 83.554285, num_correct =  1091, num_samples = 95040, acc = 0.011479, bacc = 0.129964\n",
      "Training Epoch 6  : lr = 0.005000, epoch_loss = 63.584809, num_correct =  1961, num_samples = 95040, acc = 0.020633, bacc = 0.119590\n",
      "Training Epoch 7  : lr = 0.005000, epoch_loss = 49.805556, num_correct =  8217, num_samples = 95040, acc = 0.086458, bacc = 0.139171\n",
      "Training Epoch 8  : lr = 0.005000, epoch_loss = 58.949348, num_correct =  9881, num_samples = 95040, acc = 0.103967, bacc = 0.149261\n",
      "Training Epoch 9  : lr = 0.005000, epoch_loss = 48.499921, num_correct =  9572, num_samples = 95040, acc = 0.100715, bacc = 0.165883\n",
      "Training Epoch 10 : lr = 0.005000, epoch_loss = 40.249839, num_correct = 15326, num_samples = 95040, acc = 0.161258, bacc = 0.189827\n",
      "Training Epoch 11 : lr = 0.005000, epoch_loss = 51.694895, num_correct = 23931, num_samples = 95040, acc = 0.251799, bacc = 0.196703\n",
      "Training Epoch 12 : lr = 0.005000, epoch_loss = 63.085287, num_correct = 16150, num_samples = 95040, acc = 0.169928, bacc = 0.199751\n",
      "Training Epoch 13 : lr = 0.005000, epoch_loss = 52.365914, num_correct = 15180, num_samples = 95040, acc = 0.159722, bacc = 0.205790\n",
      "Training Epoch 14 : lr = 0.005000, epoch_loss = 38.995003, num_correct = 14177, num_samples = 95040, acc = 0.149169, bacc = 0.222121\n",
      "Training Epoch 15 : lr = 0.005000, epoch_loss = 41.662700, num_correct = 18719, num_samples = 95040, acc = 0.196959, bacc = 0.231463\n",
      "Training Epoch 16 : lr = 0.005000, epoch_loss = 30.937120, num_correct = 19565, num_samples = 95040, acc = 0.205861, bacc = 0.250953\n",
      "Training Epoch 17 : lr = 0.005000, epoch_loss = 44.535495, num_correct = 26336, num_samples = 95040, acc = 0.277104, bacc = 0.268028\n",
      "Training Epoch 18 : lr = 0.005000, epoch_loss = 33.345017, num_correct = 22698, num_samples = 95040, acc = 0.238826, bacc = 0.283592\n",
      "Training Epoch 19 : lr = 0.005000, epoch_loss = 28.856955, num_correct = 19560, num_samples = 95040, acc = 0.205808, bacc = 0.302378\n",
      "Training Epoch 20 : lr = 0.002500, epoch_loss = 31.194959, num_correct = 23220, num_samples = 95040, acc = 0.244318, bacc = 0.314508\n",
      "Training Epoch 21 : lr = 0.002500, epoch_loss = 22.759527, num_correct = 24426, num_samples = 95040, acc = 0.257008, bacc = 0.333237\n",
      "Training Epoch 22 : lr = 0.002500, epoch_loss = 22.934308, num_correct = 26462, num_samples = 95040, acc = 0.278430, bacc = 0.350443\n",
      "Training Epoch 23 : lr = 0.002500, epoch_loss = 22.846491, num_correct = 28731, num_samples = 95040, acc = 0.302304, bacc = 0.366106\n",
      "Training Epoch 24 : lr = 0.002500, epoch_loss = 21.008811, num_correct = 26481, num_samples = 95040, acc = 0.278630, bacc = 0.381496\n",
      "Training Epoch 25 : lr = 0.002500, epoch_loss = 23.321582, num_correct = 27764, num_samples = 95040, acc = 0.292130, bacc = 0.393543\n",
      "Training Epoch 26 : lr = 0.002500, epoch_loss = 21.363462, num_correct = 25941, num_samples = 95040, acc = 0.272948, bacc = 0.406303\n",
      "Training Epoch 27 : lr = 0.002500, epoch_loss = 22.600992, num_correct = 23023, num_samples = 95040, acc = 0.242245, bacc = 0.417945\n",
      "Training Epoch 28 : lr = 0.002500, epoch_loss = 21.108076, num_correct = 28295, num_samples = 95040, acc = 0.297717, bacc = 0.429665\n",
      "Training Epoch 29 : lr = 0.002500, epoch_loss = 18.706681, num_correct = 26345, num_samples = 95040, acc = 0.277199, bacc = 0.442061\n",
      "Training Epoch 30 : lr = 0.002500, epoch_loss = 18.549780, num_correct = 29236, num_samples = 95040, acc = 0.307618, bacc = 0.453127\n",
      "Training Epoch 31 : lr = 0.002500, epoch_loss = 16.543324, num_correct = 28392, num_samples = 95040, acc = 0.298737, bacc = 0.464775\n",
      "Training Epoch 32 : lr = 0.002500, epoch_loss = 19.141751, num_correct = 34993, num_samples = 95040, acc = 0.368192, bacc = 0.474125\n",
      "Training Epoch 33 : lr = 0.002500, epoch_loss = 16.986298, num_correct = 29990, num_samples = 95040, acc = 0.315551, bacc = 0.484330\n",
      "Training Epoch 34 : lr = 0.002500, epoch_loss = 18.919852, num_correct = 33543, num_samples = 95040, acc = 0.352936, bacc = 0.492559\n",
      "Training Epoch 35 : lr = 0.002500, epoch_loss = 15.723958, num_correct = 30772, num_samples = 95040, acc = 0.323779, bacc = 0.501453\n",
      "Training Epoch 36 : lr = 0.002500, epoch_loss = 14.152939, num_correct = 28537, num_samples = 95040, acc = 0.300263, bacc = 0.510938\n",
      "Training Epoch 37 : lr = 0.002500, epoch_loss = 15.286378, num_correct = 31679, num_samples = 95040, acc = 0.333323, bacc = 0.519407\n",
      "Training Epoch 38 : lr = 0.002500, epoch_loss = 14.991767, num_correct = 29635, num_samples = 95040, acc = 0.311816, bacc = 0.527617\n",
      "Training Epoch 39 : lr = 0.002500, epoch_loss = 17.867094, num_correct = 36389, num_samples = 95040, acc = 0.382881, bacc = 0.532607\n",
      "Training Epoch 40 : lr = 0.002500, epoch_loss = 22.672600, num_correct = 25499, num_samples = 95040, acc = 0.268298, bacc = 0.537855\n",
      "Training Epoch 41 : lr = 0.002500, epoch_loss = 19.488102, num_correct = 28528, num_samples = 95040, acc = 0.300168, bacc = 0.543584\n",
      "Training Epoch 42 : lr = 0.002500, epoch_loss = 16.340403, num_correct = 27266, num_samples = 95040, acc = 0.286890, bacc = 0.549750\n",
      "Training Epoch 43 : lr = 0.002500, epoch_loss = 16.656152, num_correct = 29387, num_samples = 95040, acc = 0.309207, bacc = 0.555791\n",
      "Training Epoch 44 : lr = 0.002500, epoch_loss = 12.766512, num_correct = 30428, num_samples = 95040, acc = 0.320160, bacc = 0.562476\n",
      "Training Epoch 45 : lr = 0.002500, epoch_loss = 13.124196, num_correct = 31777, num_samples = 95040, acc = 0.334354, bacc = 0.568827\n",
      "Training Epoch 46 : lr = 0.002500, epoch_loss = 14.622346, num_correct = 32540, num_samples = 95040, acc = 0.342382, bacc = 0.574198\n",
      "Training Epoch 47 : lr = 0.002500, epoch_loss = 15.279837, num_correct = 35682, num_samples = 95040, acc = 0.375442, bacc = 0.579238\n",
      "Training Epoch 48 : lr = 0.002500, epoch_loss = 13.718116, num_correct = 28891, num_samples = 95040, acc = 0.303988, bacc = 0.584796\n",
      "Training Epoch 49 : lr = 0.002500, epoch_loss = 14.420986, num_correct = 33237, num_samples = 95040, acc = 0.349716, bacc = 0.589737\n",
      "Training Epoch 50 : lr = 0.002500, epoch_loss = 13.466247, num_correct = 29150, num_samples = 95040, acc = 0.306713, bacc = 0.594847\n",
      "Training Epoch 51 : lr = 0.002500, epoch_loss = 15.634035, num_correct = 33133, num_samples = 95040, acc = 0.348622, bacc = 0.598974\n",
      "Training Epoch 52 : lr = 0.002500, epoch_loss = 15.193666, num_correct = 29230, num_samples = 95040, acc = 0.307555, bacc = 0.603261\n",
      "Training Epoch 53 : lr = 0.002500, epoch_loss = 13.693361, num_correct = 29988, num_samples = 95040, acc = 0.315530, bacc = 0.607800\n",
      "Training Epoch 54 : lr = 0.002500, epoch_loss = 14.307059, num_correct = 32523, num_samples = 95040, acc = 0.342203, bacc = 0.612094\n",
      "Training Epoch 55 : lr = 0.002500, epoch_loss = 13.510802, num_correct = 31345, num_samples = 95040, acc = 0.329809, bacc = 0.616393\n",
      "Training Epoch 56 : lr = 0.002500, epoch_loss = 14.304537, num_correct = 32104, num_samples = 95040, acc = 0.337795, bacc = 0.620327\n",
      "Training Epoch 57 : lr = 0.002500, epoch_loss = 14.549361, num_correct = 30535, num_samples = 95040, acc = 0.321286, bacc = 0.624023\n",
      "Training Epoch 58 : lr = 0.002500, epoch_loss = 17.081786, num_correct = 34643, num_samples = 95040, acc = 0.364510, bacc = 0.626416\n",
      "Training Epoch 59 : lr = 0.002500, epoch_loss = 12.691221, num_correct = 29684, num_samples = 95040, acc = 0.312332, bacc = 0.630275\n",
      "Training Epoch 60 : lr = 0.001250, epoch_loss = 13.397707, num_correct = 33639, num_samples = 95040, acc = 0.353946, bacc = 0.633785\n",
      "Training Epoch 61 : lr = 0.001250, epoch_loss = 12.259690, num_correct = 29539, num_samples = 95040, acc = 0.310806, bacc = 0.637437\n",
      "Training Epoch 62 : lr = 0.001250, epoch_loss = 11.791286, num_correct = 30481, num_samples = 95040, acc = 0.320718, bacc = 0.640998\n",
      "Training Epoch 63 : lr = 0.001250, epoch_loss = 11.896083, num_correct = 32246, num_samples = 95040, acc = 0.339289, bacc = 0.644415\n",
      "Training Epoch 64 : lr = 0.001250, epoch_loss = 12.160960, num_correct = 30922, num_samples = 95040, acc = 0.325358, bacc = 0.647742\n",
      "Training Epoch 65 : lr = 0.001250, epoch_loss = 12.054014, num_correct = 32066, num_samples = 95040, acc = 0.337395, bacc = 0.650946\n",
      "Training Epoch 66 : lr = 0.001250, epoch_loss = 12.182727, num_correct = 31992, num_samples = 95040, acc = 0.336616, bacc = 0.654089\n",
      "Training Epoch 67 : lr = 0.001250, epoch_loss = 11.903711, num_correct = 32810, num_samples = 95040, acc = 0.345223, bacc = 0.657116\n",
      "Training Epoch 68 : lr = 0.001250, epoch_loss = 12.431626, num_correct = 32721, num_samples = 95040, acc = 0.344287, bacc = 0.660040\n",
      "Training Epoch 69 : lr = 0.001250, epoch_loss = 11.906498, num_correct = 33786, num_samples = 95040, acc = 0.355492, bacc = 0.662871\n",
      "Training Epoch 70 : lr = 0.001250, epoch_loss = 12.046249, num_correct = 30658, num_samples = 95040, acc = 0.322580, bacc = 0.665649\n",
      "Training Epoch 71 : lr = 0.001250, epoch_loss = 11.722562, num_correct = 33709, num_samples = 95040, acc = 0.354682, bacc = 0.668341\n",
      "Training Epoch 72 : lr = 0.001250, epoch_loss = 11.855320, num_correct = 31586, num_samples = 95040, acc = 0.332344, bacc = 0.671001\n",
      "Training Epoch 73 : lr = 0.001250, epoch_loss = 11.982071, num_correct = 34873, num_samples = 95040, acc = 0.366930, bacc = 0.673491\n",
      "Training Epoch 74 : lr = 0.001250, epoch_loss = 12.152079, num_correct = 31631, num_samples = 95040, acc = 0.332818, bacc = 0.675994\n",
      "Training Epoch 75 : lr = 0.001250, epoch_loss = 11.846338, num_correct = 33633, num_samples = 95040, acc = 0.353883, bacc = 0.678397\n",
      "Training Epoch 76 : lr = 0.001250, epoch_loss = 11.916002, num_correct = 33419, num_samples = 95040, acc = 0.351631, bacc = 0.680746\n",
      "Training Epoch 77 : lr = 0.001250, epoch_loss = 11.583676, num_correct = 32282, num_samples = 95040, acc = 0.339668, bacc = 0.683057\n",
      "Training Epoch 78 : lr = 0.001250, epoch_loss = 11.735013, num_correct = 32484, num_samples = 95040, acc = 0.341793, bacc = 0.685316\n",
      "Training Epoch 79 : lr = 0.001250, epoch_loss = 11.722542, num_correct = 31781, num_samples = 95040, acc = 0.334396, bacc = 0.687516\n",
      "Training Epoch 80 : lr = 0.001250, epoch_loss = 12.303886, num_correct = 35497, num_samples = 95040, acc = 0.373495, bacc = 0.689612\n",
      "Training Epoch 81 : lr = 0.001250, epoch_loss = 11.816946, num_correct = 31834, num_samples = 95040, acc = 0.334954, bacc = 0.691699\n",
      "Training Epoch 82 : lr = 0.001250, epoch_loss = 11.711139, num_correct = 33228, num_samples = 95040, acc = 0.349621, bacc = 0.693750\n",
      "Training Epoch 83 : lr = 0.001250, epoch_loss = 11.591432, num_correct = 31806, num_samples = 95040, acc = 0.334659, bacc = 0.695755\n",
      "Training Epoch 84 : lr = 0.001250, epoch_loss = 12.302924, num_correct = 36516, num_samples = 95040, acc = 0.384217, bacc = 0.697624\n",
      "Training Epoch 85 : lr = 0.001250, epoch_loss = 11.676237, num_correct = 31871, num_samples = 95040, acc = 0.335343, bacc = 0.699514\n",
      "Training Epoch 86 : lr = 0.001250, epoch_loss = 11.600471, num_correct = 33384, num_samples = 95040, acc = 0.351263, bacc = 0.701382\n",
      "Training Epoch 87 : lr = 0.001250, epoch_loss = 11.720419, num_correct = 31585, num_samples = 95040, acc = 0.332334, bacc = 0.703211\n",
      "Training Epoch 88 : lr = 0.001250, epoch_loss = 12.180304, num_correct = 36754, num_samples = 95040, acc = 0.386721, bacc = 0.704927\n",
      "Training Epoch 89 : lr = 0.001250, epoch_loss = 11.705651, num_correct = 31592, num_samples = 95040, acc = 0.332407, bacc = 0.706651\n",
      "Training Epoch 90 : lr = 0.001250, epoch_loss = 11.736219, num_correct = 34218, num_samples = 95040, acc = 0.360038, bacc = 0.708346\n",
      "Training Epoch 91 : lr = 0.001250, epoch_loss = 11.480171, num_correct = 31381, num_samples = 95040, acc = 0.330187, bacc = 0.710022\n",
      "Training Epoch 92 : lr = 0.001250, epoch_loss = 12.041950, num_correct = 36113, num_samples = 95040, acc = 0.379977, bacc = 0.711605\n",
      "Training Epoch 93 : lr = 0.001250, epoch_loss = 11.719611, num_correct = 31788, num_samples = 95040, acc = 0.334470, bacc = 0.713197\n",
      "Training Epoch 94 : lr = 0.001250, epoch_loss = 11.626771, num_correct = 33338, num_samples = 95040, acc = 0.350779, bacc = 0.714761\n",
      "Training Epoch 95 : lr = 0.001250, epoch_loss = 11.621663, num_correct = 32127, num_samples = 95040, acc = 0.338037, bacc = 0.716287\n",
      "Training Epoch 96 : lr = 0.001250, epoch_loss = 12.080083, num_correct = 35784, num_samples = 95040, acc = 0.376515, bacc = 0.717739\n",
      "Training Epoch 97 : lr = 0.001250, epoch_loss = 11.479765, num_correct = 31422, num_samples = 95040, acc = 0.330619, bacc = 0.719211\n",
      "Training Epoch 98 : lr = 0.001250, epoch_loss = 11.720473, num_correct = 34319, num_samples = 95040, acc = 0.361101, bacc = 0.720641\n",
      "Training Epoch 99 : lr = 0.001250, epoch_loss = 11.511379, num_correct = 31994, num_samples = 95040, acc = 0.336637, bacc = 0.722060\n",
      "Training Epoch 100: lr = 0.000625, epoch_loss = 11.477194, num_correct = 34005, num_samples = 95040, acc = 0.357797, bacc = 0.723437\n",
      "Training Epoch 101: lr = 0.000625, epoch_loss = 11.063514, num_correct = 31659, num_samples = 95040, acc = 0.333112, bacc = 0.724808\n",
      "Training Epoch 102: lr = 0.000625, epoch_loss = 11.011400, num_correct = 33222, num_samples = 95040, acc = 0.349558, bacc = 0.726156\n",
      "Training Epoch 103: lr = 0.000625, epoch_loss = 11.020397, num_correct = 32520, num_samples = 95040, acc = 0.342172, bacc = 0.727479\n",
      "Training Epoch 104: lr = 0.000625, epoch_loss = 11.169788, num_correct = 33717, num_samples = 95040, acc = 0.354766, bacc = 0.728774\n",
      "Training Epoch 105: lr = 0.000625, epoch_loss = 11.099949, num_correct = 32050, num_samples = 95040, acc = 0.337226, bacc = 0.730042\n",
      "Training Epoch 106: lr = 0.000625, epoch_loss = 11.096563, num_correct = 33348, num_samples = 95040, acc = 0.350884, bacc = 0.731285\n",
      "Training Epoch 107: lr = 0.000625, epoch_loss = 11.064943, num_correct = 32407, num_samples = 95040, acc = 0.340983, bacc = 0.732502\n",
      "Training Epoch 108: lr = 0.000625, epoch_loss = 11.138566, num_correct = 33718, num_samples = 95040, acc = 0.354777, bacc = 0.733702\n",
      "Training Epoch 109: lr = 0.000625, epoch_loss = 11.077660, num_correct = 32316, num_samples = 95040, acc = 0.340025, bacc = 0.734876\n",
      "Training Epoch 110: lr = 0.000625, epoch_loss = 11.098240, num_correct = 33587, num_samples = 95040, acc = 0.353399, bacc = 0.736034\n",
      "Training Epoch 111: lr = 0.000625, epoch_loss = 11.050573, num_correct = 32149, num_samples = 95040, acc = 0.338268, bacc = 0.737162\n",
      "Training Epoch 112: lr = 0.000625, epoch_loss = 11.131898, num_correct = 33816, num_samples = 95040, acc = 0.355808, bacc = 0.738277\n",
      "Training Epoch 113: lr = 0.000625, epoch_loss = 11.068772, num_correct = 32147, num_samples = 95040, acc = 0.338247, bacc = 0.739362\n",
      "Training Epoch 114: lr = 0.000625, epoch_loss = 11.102723, num_correct = 33552, num_samples = 95040, acc = 0.353030, bacc = 0.740442\n",
      "Training Epoch 115: lr = 0.000625, epoch_loss = 11.044302, num_correct = 32164, num_samples = 95040, acc = 0.338426, bacc = 0.741498\n",
      "Training Epoch 116: lr = 0.000625, epoch_loss = 11.096309, num_correct = 33704, num_samples = 95040, acc = 0.354630, bacc = 0.742538\n",
      "Training Epoch 117: lr = 0.000625, epoch_loss = 11.047168, num_correct = 31957, num_samples = 95040, acc = 0.336248, bacc = 0.743559\n",
      "Training Epoch 118: lr = 0.000625, epoch_loss = 11.087696, num_correct = 34071, num_samples = 95040, acc = 0.358491, bacc = 0.744568\n",
      "Training Epoch 119: lr = 0.000625, epoch_loss = 11.040204, num_correct = 31679, num_samples = 95040, acc = 0.333323, bacc = 0.745554\n",
      "Training Epoch 120: lr = 0.000625, epoch_loss = 11.078725, num_correct = 33944, num_samples = 95040, acc = 0.357155, bacc = 0.746527\n",
      "Training Epoch 121: lr = 0.000625, epoch_loss = 11.033553, num_correct = 32059, num_samples = 95040, acc = 0.337321, bacc = 0.747485\n",
      "Training Epoch 122: lr = 0.000625, epoch_loss = 11.082285, num_correct = 34228, num_samples = 95040, acc = 0.360143, bacc = 0.748427\n",
      "Training Epoch 123: lr = 0.000625, epoch_loss = 11.092221, num_correct = 31764, num_samples = 95040, acc = 0.334217, bacc = 0.749348\n",
      "Training Epoch 124: lr = 0.000625, epoch_loss = 11.074748, num_correct = 34050, num_samples = 95040, acc = 0.358270, bacc = 0.750259\n",
      "Training Epoch 125: lr = 0.000625, epoch_loss = 11.089580, num_correct = 31837, num_samples = 95040, acc = 0.334985, bacc = 0.751153\n",
      "Training Epoch 126: lr = 0.000625, epoch_loss = 11.093449, num_correct = 34195, num_samples = 95040, acc = 0.359796, bacc = 0.752034\n",
      "Training Epoch 127: lr = 0.000625, epoch_loss = 11.075711, num_correct = 31918, num_samples = 95040, acc = 0.335838, bacc = 0.752902\n",
      "Training Epoch 128: lr = 0.000625, epoch_loss = 11.061208, num_correct = 34207, num_samples = 95040, acc = 0.359922, bacc = 0.753755\n",
      "Training Epoch 129: lr = 0.000625, epoch_loss = 11.076341, num_correct = 32127, num_samples = 95040, acc = 0.338037, bacc = 0.754604\n",
      "Training Epoch 130: lr = 0.000625, epoch_loss = 11.062463, num_correct = 34306, num_samples = 95040, acc = 0.360964, bacc = 0.755438\n",
      "Training Epoch 131: lr = 0.000625, epoch_loss = 11.077881, num_correct = 32016, num_samples = 95040, acc = 0.336869, bacc = 0.756257\n",
      "Training Epoch 132: lr = 0.000625, epoch_loss = 11.053753, num_correct = 34052, num_samples = 95040, acc = 0.358291, bacc = 0.757059\n",
      "Training Epoch 133: lr = 0.000625, epoch_loss = 11.050475, num_correct = 32098, num_samples = 95040, acc = 0.337731, bacc = 0.757851\n",
      "Training Epoch 134: lr = 0.000625, epoch_loss = 11.060199, num_correct = 34210, num_samples = 95040, acc = 0.359954, bacc = 0.758631\n",
      "Training Epoch 135: lr = 0.000625, epoch_loss = 11.054954, num_correct = 31834, num_samples = 95040, acc = 0.334954, bacc = 0.759400\n",
      "Training Epoch 136: lr = 0.000625, epoch_loss = 11.054432, num_correct = 34127, num_samples = 95040, acc = 0.359080, bacc = 0.760158\n",
      "Training Epoch 137: lr = 0.000625, epoch_loss = 11.065673, num_correct = 32099, num_samples = 95040, acc = 0.337742, bacc = 0.760907\n",
      "Training Epoch 138: lr = 0.000625, epoch_loss = 11.052466, num_correct = 34217, num_samples = 95040, acc = 0.360027, bacc = 0.761642\n",
      "Training Epoch 139: lr = 0.000625, epoch_loss = 11.060382, num_correct = 31914, num_samples = 95040, acc = 0.335795, bacc = 0.762371\n",
      "Training Epoch 140: lr = 0.000625, epoch_loss = 11.034114, num_correct = 34270, num_samples = 95040, acc = 0.360585, bacc = 0.763088\n",
      "Training Epoch 141: lr = 0.000625, epoch_loss = 11.051063, num_correct = 32053, num_samples = 95040, acc = 0.337258, bacc = 0.763796\n",
      "Training Epoch 142: lr = 0.000625, epoch_loss = 11.043757, num_correct = 34166, num_samples = 95040, acc = 0.359491, bacc = 0.764491\n",
      "Training Epoch 143: lr = 0.000625, epoch_loss = 11.047235, num_correct = 32052, num_samples = 95040, acc = 0.337247, bacc = 0.765180\n",
      "Training Epoch 144: lr = 0.000625, epoch_loss = 11.023916, num_correct = 34260, num_samples = 95040, acc = 0.360480, bacc = 0.765857\n",
      "Training Epoch 145: lr = 0.000625, epoch_loss = 11.058739, num_correct = 31840, num_samples = 95040, acc = 0.335017, bacc = 0.766524\n",
      "Training Epoch 146: lr = 0.000625, epoch_loss = 11.052016, num_correct = 34178, num_samples = 95040, acc = 0.359617, bacc = 0.767185\n",
      "Training Epoch 147: lr = 0.000625, epoch_loss = 11.029893, num_correct = 32141, num_samples = 95040, acc = 0.338184, bacc = 0.767837\n",
      "Training Epoch 148: lr = 0.000625, epoch_loss = 11.034262, num_correct = 34182, num_samples = 95040, acc = 0.359659, bacc = 0.768477\n",
      "Training Epoch 149: lr = 0.000625, epoch_loss = 11.043974, num_correct = 31978, num_samples = 95040, acc = 0.336469, bacc = 0.769113\n",
      "Training finished\n",
      "Evaluated with loss = 0.000431, acc = 0.418981, bacc = 0.682321\n"
     ]
    },
    {
     "data": {
      "text/plain": [
       "<Figure size 1440x1440 with 0 Axes>"
      ]
     },
     "metadata": {},
     "output_type": "display_data"
    },
    {
     "data": {
      "image/png": "[encoded data removed]",
      "text/plain": [
       "<Figure size 432x288 with 2 Axes>"
      ]
     },
     "metadata": {
      "needs_background": "light"
     },
     "output_type": "display_data"
    }
   ],
   "source": [
    "set_random_seed(4354)\n",
    "\n",
    "data_train_normalized, data_test_normalized = normalize_data(data_train, data_test)\n",
    "\n",
    "attention_classifier = train_attention_classifier(\n",
    "    hyper_parameters, \n",
    "    training_hyper_parameters, \n",
    "    NumpyDataset(data_train_normalized, labels_train),\n",
    "    None,\n",
    "    device\n",
    ")\n",
    "\n",
    "# test_loader = create_data_loader(np.random.normal(size=(240, 100, 268)), np.random.randint(0, 7, size=(240, 100)))\n",
    "test_loader = create_data_loader(data_test_normalized, labels_test)\n",
    "test_attention_classifier(attention_classifier, test_loader, device)"
   ]
  },
  {
   "cell_type": "code",
   "execution_count": 35,
   "metadata": {},
   "outputs": [
    {
     "ename": "NameError",
     "evalue": "name 'data_test_normalized' is not defined",
     "output_type": "error",
     "traceback": [
      "\u001b[1;31m---------------------------------------------------------------------------\u001b[0m",
      "\u001b[1;31mNameError\u001b[0m                                 Traceback (most recent call last)",
      "Input \u001b[1;32mIn [35]\u001b[0m, in \u001b[0;36m<cell line: 3>\u001b[1;34m()\u001b[0m\n\u001b[0;32m      1\u001b[0m \u001b[38;5;66;03m# load_model('attention_classifier fold-1')\u001b[39;00m\n\u001b[0;32m      2\u001b[0m \u001b[38;5;66;03m# TODO: normalization\u001b[39;00m\n\u001b[1;32m----> 3\u001b[0m test_loader \u001b[38;5;241m=\u001b[39m create_data_loader(\u001b[43mdata_test_normalized\u001b[49m, labels_test)\n\u001b[0;32m      4\u001b[0m test_attention_classifier(load_model(\u001b[38;5;124m'\u001b[39m\u001b[38;5;124mcv1/attention_classifier fold-0\u001b[39m\u001b[38;5;124m'\u001b[39m), test_loader, device)\n",
      "\u001b[1;31mNameError\u001b[0m: name 'data_test_normalized' is not defined"
     ]
    }
   ],
   "source": [
    "# load_model('attention_classifier fold-1')\n",
    "# TODO: normalization\n",
    "test_loader = create_data_loader(data_test_normalized, labels_test)\n",
    "test_attention_classifier(load_model('cv1/attention_classifier fold-0'), test_loader, device)"
   ]
  }
 ],
 "metadata": {
  "kernelspec": {
   "display_name": "Python 3 (ipykernel)",
   "language": "python",
   "name": "python3"
  },
  "language_info": {
   "codemirror_mode": {
    "name": "ipython",
    "version": 3
   },
   "file_extension": ".py",
   "mimetype": "text/x-python",
   "name": "python",
   "nbconvert_exporter": "python",
   "pygments_lexer": "ipython3",
   "version": "3.9.5"
  }
 },
 "nbformat": 4,
 "nbformat_minor": 4
}
